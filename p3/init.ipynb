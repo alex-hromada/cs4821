{
  "cells": [
    {
      "cell_type": "markdown",
      "source": "## Initialization Notebook\nThis is your initialization notebook.\n\n**What's this for?**\n\nYou can put custom code you want us to run every time we setup your environment in here. \n\n**Awesome! Anything I should not put in here?**\n\nPlease don't install `jupyter` or `jedi` packages, they would break your Deepnote environment. Also, no need to put `!pip install`s here, we already save those automatically!\n\n**I want to learn more!**\n\nGreat! Just [head over to our docs](https://docs.deepnote.com/environment/custom-initialization).",
      "metadata": {
        "tags": [],
        "cell_id": "00000-2bf7215d-14c1-4fe1-a20b-bb7715673eda",
        "deepnote_cell_type": "markdown"
      }
    },
    {
      "cell_type": "code",
      "metadata": {
        "tags": [],
        "cell_id": "00001-11062eef-aea6-40f2-b4d0-e5c65b805847",
        "deepnote_to_be_reexecuted": false,
        "source_hash": "60b37886",
        "execution_millis": 7717,
        "execution_start": 1618771815068,
        "deepnote_cell_type": "code"
      },
      "source": "%%bash\n# If your project has a 'requirements.txt' file, we'll install it here apart from blacklisted packages that interfere with Deepnote (see above).\nif test -f requirements.txt\n  then\n    sed -i '/jedi/d;/jupyter/d;' ./requirements.txt\n    pip install -r ./requirements.txt\n  else echo \"There's no requirements.txt, so nothing to install. This is the case with most projects.\"\nfi",
      "outputs": [
        {
          "name": "stdout",
          "text": "Collecting pydotplus==2.0.2\n  Downloading pydotplus-2.0.2.tar.gz (278 kB)\nRequirement already satisfied: pyparsing>=2.0.1 in /shared-libs/python3.7/py-core/lib/python3.7/site-packages (from pydotplus==2.0.2->-r ./requirements.txt (line 1)) (2.4.7)\nBuilding wheels for collected packages: pydotplus\n  Building wheel for pydotplus (setup.py): started\n  Building wheel for pydotplus (setup.py): finished with status 'done'\n  Created wheel for pydotplus: filename=pydotplus-2.0.2-py3-none-any.whl size=24566 sha256=5d46347fc00217b68604ed4d7f2d9fa9159fad77a3523d4dde78555f0f64c7f7\n  Stored in directory: /root/.cache/pip/wheels/1e/7b/04/7387cf6cc9e48b4a96e361b0be812f0708b394b821bf8c9c50\nSuccessfully built pydotplus\nInstalling collected packages: pydotplus\nSuccessfully installed pydotplus-2.0.2\n",
          "output_type": "stream"
        }
      ],
      "execution_count": null
    }
  ],
  "nbformat": 4,
  "nbformat_minor": 2,
  "metadata": {
    "orig_nbformat": 2,
    "deepnote_notebook_id": "f5fc5ddb-0589-4fb7-bf3d-6b4caafa7bd4",
    "deepnote": {},
    "deepnote_execution_queue": []
  }
}