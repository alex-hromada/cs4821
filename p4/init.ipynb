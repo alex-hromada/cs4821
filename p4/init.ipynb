{
  "cells": [
    {
      "cell_type": "markdown",
      "source": "## Initialization Notebook\nThis is your initialization notebook.\n\n**What's this for?**\n\nYou can put custom code you want us to run every time we setup your environment in here. \n\n**Awesome! Anything I should not put in here?**\n\nPlease don't install `jupyter` or `jedi` packages, they would break your Deepnote environment. Also, no need to put `!pip install`s here, we already save those automatically!\n\n**I want to learn more!**\n\nGreat! Just [head over to our docs](https://docs.deepnote.com/environment/custom-initialization).",
      "metadata": {
        "tags": [],
        "cell_id": "00000-82c16426-a251-4ac7-b08e-db56501746b0",
        "deepnote_cell_type": "markdown"
      }
    },
    {
      "cell_type": "code",
      "metadata": {
        "tags": [],
        "cell_id": "00001-9834d6a2-92d9-414f-9cb3-768bfbb4374c",
        "deepnote_to_be_reexecuted": false,
        "source_hash": "60b37886",
        "execution_millis": 68,
        "execution_start": 1618633203917,
        "deepnote_cell_type": "code"
      },
      "source": "%%bash\n# If your project has a 'requirements.txt' file, we'll install it here apart from blacklisted packages that interfere with Deepnote (see above).\nif test -f requirements.txt\n  then\n    sed -i '/jedi/d;/jupyter/d;' ./requirements.txt\n    pip install -r ./requirements.txt\n  else echo \"There's no requirements.txt, so nothing to install. This is the case with most projects.\"\nfi",
      "outputs": [
        {
          "name": "stdout",
          "text": "There's no requirements.txt, so nothing to install. This is the case with most projects.\n",
          "output_type": "stream"
        }
      ],
      "execution_count": null
    }
  ],
  "nbformat": 4,
  "nbformat_minor": 2,
  "metadata": {
    "orig_nbformat": 2,
    "deepnote_notebook_id": "b57784e7-a17e-42fd-82aa-6d3668ceb23f",
    "deepnote": {},
    "deepnote_execution_queue": []
  }
}