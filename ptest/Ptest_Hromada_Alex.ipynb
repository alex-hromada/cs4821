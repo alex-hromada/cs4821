{
 "cells": [
  {
   "cell_type": "markdown",
   "metadata": {
    "pycharm": {
     "name": "#%% md\n"
    }
   },
   "source": [
    "# Ptest\n",
    "### Due: Thu 01/21 @ 11:59pm\n",
    "### Alex Hromada\n",
    "\n",
    "*Assignment Objective:*\n",
    "\n",
    "Upon successful completion of this assignment, a student will be able to:\n",
    "\n",
    "* Add new text and code to their assignment solutions\n",
    "* Gain experience in formatting text using Markdown or LaTeX\n",
    "* Install or access to programming software to complete this assignment and\n",
    "subsequent assignments.\n",
    "\n",
    "\n",
    "<br>"
   ]
  },
  {
   "cell_type": "code",
   "execution_count": 1,
   "metadata": {
    "collapsed": false,
    "jupyter": {
     "outputs_hidden": false
    },
    "pycharm": {
     "name": "#%%\n"
    }
   },
   "outputs": [
    {
     "name": "stdout",
     "output_type": "stream",
     "text": [
      "Hello world!\n"
     ]
    }
   ],
   "source": [
    "print (\"Hello world!\")"
   ]
  },
  {
   "cell_type": "code",
   "execution_count": 2,
   "metadata": {
    "collapsed": false,
    "jupyter": {
     "outputs_hidden": false
    },
    "pycharm": {
     "name": "#%%\n"
    }
   },
   "outputs": [
    {
     "name": "stdout",
     "output_type": "stream",
     "text": [
      "Hello cs4821-cs5831, welcome to 2021\n"
     ]
    }
   ],
   "source": [
    "v1 = \"cs4821-cs5831\"\n",
    "v2 = 2021\n",
    "\n",
    "print (\"Hello {:s}, welcome to {:d}\".format(v1, v2))"
   ]
  },
  {
   "cell_type": "markdown",
   "metadata": {
    "pycharm": {
     "name": "#%% md\n"
    }
   },
   "source": [
    "    test comment\n",
    "\n",
    "    This is a larger comment block\n",
    "    that may span multiple lines\n",
    "\n"
   ]
  }
 ],
 "metadata": {
  "kernelspec": {
   "display_name": "Python 3",
   "language": "python",
   "name": "python3"
  },
  "language_info": {
   "codemirror_mode": {
    "name": "ipython",
    "version": 3
   },
   "file_extension": ".py",
   "mimetype": "text/x-python",
   "name": "python",
   "nbconvert_exporter": "python",
   "pygments_lexer": "ipython3",
   "version": "3.8.5"
  }
 },
 "nbformat": 4,
 "nbformat_minor": 4
}