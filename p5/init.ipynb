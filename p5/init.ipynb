{
  "cells": [
    {
      "cell_type": "markdown",
      "source": "## Initialization Notebook\nThis is your initialization notebook.\n\n**What's this for?**\n\nYou can put custom code you want us to run every time we setup your environment in here. \n\n**Awesome! Anything I should not put in here?**\n\nPlease don't install `jupyter` or `jedi` packages, they would break your Deepnote environment. Also, no need to put `!pip install`s here, we already save those automatically!\n\n**I want to learn more!**\n\nGreat! Just [head over to our docs](https://docs.deepnote.com/environment/custom-initialization).",
      "metadata": {
        "tags": [],
        "cell_id": "00000-9624f1f1-92c0-4e8b-a1f5-95ec6d131f75",
        "deepnote_cell_type": "markdown"
      }
    },
    {
      "cell_type": "code",
      "metadata": {
        "tags": [],
        "cell_id": "00001-aac671a0-2390-4301-9080-0656bc316976",
        "deepnote_to_be_reexecuted": false,
        "source_hash": "60b37886",
        "execution_millis": 78,
        "execution_start": 1618785263502,
        "deepnote_cell_type": "code"
      },
      "source": "%%bash\n# If your project has a 'requirements.txt' file, we'll install it here apart from blacklisted packages that interfere with Deepnote (see above).\nif test -f requirements.txt\n  then\n    sed -i '/jedi/d;/jupyter/d;' ./requirements.txt\n    pip install -r ./requirements.txt\n  else echo \"There's no requirements.txt, so nothing to install. This is the case with most projects.\"\nfi",
      "outputs": [
        {
          "name": "stdout",
          "text": "There's no requirements.txt, so nothing to install. This is the case with most projects.\n",
          "output_type": "stream"
        }
      ],
      "execution_count": null
    }
  ],
  "nbformat": 4,
  "nbformat_minor": 2,
  "metadata": {
    "orig_nbformat": 2,
    "deepnote": {
      "is_reactive": false
    },
    "deepnote_notebook_id": "07200e38-dba7-4d7e-a656-af4553f8e4cb",
    "deepnote_execution_queue": []
  }
}