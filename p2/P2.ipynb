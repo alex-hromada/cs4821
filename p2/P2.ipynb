{
  "nbformat": 4,
  "nbformat_minor": 0,
  "metadata": {
    "colab": {
      "name": "P2",
      "provenance": [],
      "collapsed_sections": []
    },
    "kernelspec": {
      "name": "python3",
      "display_name": "Python 3"
    }
  },
  "cells": [
    {
      "cell_type": "markdown",
      "metadata": {
        "id": "NlvltzqUy0Ty"
      },
      "source": [
        "#P2\n",
        "##Due 02/17 @ 11:59 PM\n",
        "##Gary Watson\n",
        "##Alex Hromada\n",
        "##Ethan Matzdorf\n"
      ]
    },
    {
      "cell_type": "code",
      "metadata": {
        "id": "bbmO4GmEywi4"
      },
      "source": [
        "import pandas as pd\n",
        "import numpy as np\n",
        "import matplotlib as mpl\n",
        "import matplotlib.pyplot as plt\n",
        "import seaborn as sb\n",
        "import sys\n",
        "import plotly.graph_objects as go\n",
        "from scipy.spatial import distance\n",
        "from sklearn.preprocessing import MinMaxScaler, StandardScaler\n",
        "from sklearn.cluster import KMeans\n",
        "from sklearn.metrics import pairwise_distances\n",
        "from sklearn.metrics.pairwise import pairwise_kernels\n",
        "from scipy.cluster.hierarchy import dendrogram, linkage\n",
        "%matplotlib inline\n",
        "\n",
        "from gapstat import gapstat"
      ],
      "execution_count": null,
      "outputs": []
    },
    {
      "cell_type": "markdown",
      "metadata": {
        "id": "PelhvqHM0_Ep"
      },
      "source": [
        "#Part A"
      ]
    },
    {
      "cell_type": "markdown",
      "metadata": {
        "id": "JwAgSynL1CGi"
      },
      "source": [
        "##Q1"
      ]
    },
    {
      "cell_type": "markdown",
      "metadata": {
        "id": "gS8lDcyN1iHn"
      },
      "source": [
        "##P2Delta\n",
        "##Gary Watson\n",
        "##Alex Hromada\n",
        "##Ethan Matzdorf\n",
        "\n",
        "\n"
      ]
    },
    {
      "cell_type": "markdown",
      "metadata": {
        "id": "EM3nZTmw1u1v"
      },
      "source": [
        "##Q2"
      ]
    },
    {
      "cell_type": "markdown",
      "metadata": {
        "id": "IJJSUJDX7_Pn"
      },
      "source": [
        "#Q2(a)"
      ]
    },
    {
      "cell_type": "code",
      "metadata": {
        "colab": {
          "base_uri": "https://localhost:8080/",
          "height": 295
        },
        "id": "t6-vX6KL1FaK",
        "outputId": "e2cfc121-c3dd-4c57-df09-8e86c4817165"
      },
      "source": [
        "x1 = [0,1,1,2,4,5,5,6]\n",
        "x2 = [4,3,4,5,0,1,2,1]\n",
        "plt.scatter(x1,x2)\n",
        "plt.xlabel('X1')\n",
        "plt.ylabel('X2')\n",
        "plt.title('Initial sample data plot')\n",
        "plt.savefig('Q2a')"
      ],
      "execution_count": null,
      "outputs": [
        {
          "output_type": "display_data",
          "data": {
            "image/png": "[encoded data removed]",
            "text/plain": [
              "<Figure size 432x288 with 1 Axes>"
            ]
          },
          "metadata": {
            "tags": [],
            "needs_background": "light"
          }
        }
      ]
    },
    {
      "cell_type": "markdown",
      "metadata": {
        "id": "DnldHyLO_tuG"
      },
      "source": [
        "#Q2(b)"
      ]
    },
    {
      "cell_type": "code",
      "metadata": {
        "colab": {
          "base_uri": "https://localhost:8080/"
        },
        "id": "t_WC4TxyDtD4",
        "outputId": "cc9918df-1d8a-4274-b209-3c2d17e3da5b"
      },
      "source": [
        "c1x = np.array([4,5,5,6])\n",
        "c1y = np.array([0,1,2,1])\n",
        "\n",
        "c2x = np.array([0,1,1,2])\n",
        "c2y = np.array([4,3,4,5])\n",
        "\n",
        "cent1 = np.array([np.average(c1x), np.average(c1y)])\n",
        "cent2= np.array([np.average(c2x), np.average(c2y)])\n",
        "\n",
        "print(f\"C1 centroid: {np.average(c1x)}, {np.average(c1y)}\")\n",
        "print(f\"C2 centroid: {np.average(c2x)}, {np.average(c2y)}\")"
      ],
      "execution_count": null,
      "outputs": [
        {
          "output_type": "stream",
          "text": [
            "C1 centroid: 5.0, 1.0\n",
            "C2 centroid: 1.0, 4.0\n"
          ],
          "name": "stdout"
        }
      ]
    },
    {
      "cell_type": "markdown",
      "metadata": {
        "id": "Ax78bygSIyJZ"
      },
      "source": [
        "#Q2(c)"
      ]
    },
    {
      "cell_type": "code",
      "metadata": {
        "colab": {
          "base_uri": "https://localhost:8080/"
        },
        "id": "HiVdlefFIw3e",
        "outputId": "dc0f22a5-fc6a-4a8c-c8dd-2de9194cde0a"
      },
      "source": [
        "samples = np.array([[0,1,1,2,4,5,5,6], [4,3,4,5,0,1,2,1]])\n",
        "\n",
        "n=1\n",
        "for sample in samples.T:\n",
        "  cdist1 = np.linalg.norm(cent1-sample)\n",
        "  cdist2 = np.linalg.norm(cent2-sample)\n",
        "  print(f\"Sample {n}: {sample} c1 distance: {cdist1} c2 distance: {cdist2}\")\n",
        "  print(sample)\n",
        "  if (cdist1 >= cdist2): \n",
        "    print('1') \n",
        "  else: print('2')\n",
        "  n = n + 1"
      ],
      "execution_count": null,
      "outputs": [
        {
          "output_type": "stream",
          "text": [
            "Sample 1: [0 4] c1 distance: 5.830951894845301 c2 distance: 1.0\n",
            "[0 4]\n",
            "1\n",
            "Sample 2: [1 3] c1 distance: 4.47213595499958 c2 distance: 1.0\n",
            "[1 3]\n",
            "1\n",
            "Sample 3: [1 4] c1 distance: 5.0 c2 distance: 0.0\n",
            "[1 4]\n",
            "1\n",
            "Sample 4: [2 5] c1 distance: 5.0 c2 distance: 1.4142135623730951\n",
            "[2 5]\n",
            "1\n",
            "Sample 5: [4 0] c1 distance: 1.4142135623730951 c2 distance: 5.0\n",
            "[4 0]\n",
            "2\n",
            "Sample 6: [5 1] c1 distance: 0.0 c2 distance: 5.0\n",
            "[5 1]\n",
            "2\n",
            "Sample 7: [5 2] c1 distance: 1.0 c2 distance: 4.47213595499958\n",
            "[5 2]\n",
            "2\n",
            "Sample 8: [6 1] c1 distance: 1.0 c2 distance: 5.830951894845301\n",
            "[6 1]\n",
            "2\n"
          ],
          "name": "stdout"
        }
      ]
    },
    {
      "cell_type": "markdown",
      "metadata": {
        "id": "s2xwvmj7cmy_"
      },
      "source": [
        "#Q2(e)"
      ]
    },
    {
      "cell_type": "code",
      "metadata": {
        "colab": {
          "base_uri": "https://localhost:8080/",
          "height": 295
        },
        "id": "vmFAcO9acsno",
        "outputId": "cd2c260d-14f1-4d3c-a44e-735cf6d27d50"
      },
      "source": [
        "plt.scatter(c1x,c1y,color='Red', label='Group 1')\n",
        "plt.scatter(c2x,c2y,color='Blue', label='Group 2')\n",
        "plt.plot(1,4,'ro',color='Black', label='Group 1 centroid')\n",
        "plt.plot(5,1,'ro',color='Black', label='Group 2 centroid')\n",
        "\n",
        "plt.xlabel('X1')\n",
        "plt.ylabel('X2')\n",
        "plt.title('K-means clustering of sample data')\n",
        "plt.legend()\n",
        "plt.savefig('Q2e')"
      ],
      "execution_count": null,
      "outputs": [
        {
          "output_type": "display_data",
          "data": {
            "image/png": "[encoded data removed]",
            "text/plain": [
              "<Figure size 432x288 with 1 Axes>"
            ]
          },
          "metadata": {
            "tags": [],
            "needs_background": "light"
          }
        }
      ]
    },
    {
      "cell_type": "markdown",
      "metadata": {
        "id": "-xly-g0ub51Q"
      },
      "source": [
        "#Part B"
      ]
    },
    {
      "cell_type": "markdown",
      "metadata": {
        "id": "ZX5PzmZqM27H"
      },
      "source": [
        "#Q4"
      ]
    },
    {
      "cell_type": "code",
      "metadata": {
        "id": "AeaVQ7ezM2Ao",
        "colab": {
          "base_uri": "https://localhost:8080/"
        },
        "outputId": "60d638dd-d6e8-465b-a164-6452e891433b"
      },
      "source": [
        "values = np.array([(20, 0), (30, 0), (40, 0), (60, 0), (120, 0)])\n",
        "scaler0_1 = MinMaxScaler()\n",
        "scaler1_1 = MinMaxScaler(feature_range=(-1,1))\n",
        "scaler_z = StandardScaler()\n",
        "\n",
        "scaler0_1.fit(values)\n",
        "values_scaled = scaler0_1.transform(values)\n",
        "\n",
        "scaler1_1.fit(values)\n",
        "values_scaled_ = scaler1_1.transform(values)\n",
        "\n",
        "values_scaled_z = scaler_z.fit_transform(values)\n",
        "\n",
        "print(\"Values normalized with min=0 and max=1: \")\n",
        "np.savetxt(sys.stdout, values_scaled[0:5, 0], fmt=\"%.1f\", newline='\\t')\n",
        "print()\n",
        "\n",
        "print(\"Values normalized with min=-1 and max=1: \")\n",
        "np.savetxt(sys.stdout, values_scaled_[0:5, 0], fmt=\"%.1f\", newline='\\t')\n",
        "print()\n",
        "\n",
        "print(\"Values z-normalized: \")\n",
        "np.savetxt(sys.stdout, values_scaled_z[0:5, 0], fmt=\"%.4f\", newline='\\t')\n",
        "print()"
      ],
      "execution_count": null,
      "outputs": [
        {
          "output_type": "stream",
          "text": [
            "Values normalized with min=0 and max=1: \n",
            "0.0\t0.1\t0.2\t0.4\t1.0\t\n",
            "Values normalized with min=-1 and max=1: \n",
            "-1.0\t-0.8\t-0.6\t-0.2\t1.0\t\n",
            "Values z-normalized: \n",
            "-0.9563\t-0.6751\t-0.3938\t0.1688\t1.8564\t\n"
          ],
          "name": "stdout"
        }
      ]
    },
    {
      "cell_type": "markdown",
      "metadata": {
        "id": "6DLJAxs3wQXY"
      },
      "source": [
        "#Q5"
      ]
    },
    {
      "cell_type": "markdown",
      "metadata": {
        "id": "pne6MJnGwhs1"
      },
      "source": [
        "#Q5(a)"
      ]
    },
    {
      "cell_type": "code",
      "metadata": {
        "colab": {
          "base_uri": "https://localhost:8080/"
        },
        "id": "viXtj85swSyy",
        "outputId": "1d579e0d-4d63-4488-fd45-f852e441b410"
      },
      "source": [
        "samples = np.array([(1.4, 1.3, 2.9), \n",
        "                    (1.8, 1.1, 3.2), \n",
        "                    (1.3, 1.2, 2.9), \n",
        "                    (0.9, 3.3, 3.1), \n",
        "                    (1.5, 2.1, 3.3)])\n",
        "\n",
        "x_6 = np.array([1.25, 1.74, 3.01])\n",
        "\n",
        "dist_man = np.array([0.0, 0.0, 0.0, 0.0, 0.0])\n",
        "dist_std = np.array([0.0, 0.0, 0.0, 0.0, 0.0])\n",
        "dist_mink = np.array([0.0, 0.0, 0.0, 0.0, 0.0])\n",
        "dist_sup = np.array([0.0, 0.0, 0.0, 0.0, 0.0])\n",
        "dist_cos = np.array([0.0, 0.0, 0.0, 0.0, 0.0])\n",
        "\n",
        "for i in range(5):\n",
        "  dist_man[i] = distance.cityblock(samples[i], x_6)\n",
        "\n",
        "\n",
        "print(\"The Manhattan distance between each point of the data set and the new point x6: \")\n",
        "np.savetxt(sys.stdout, dist_man, fmt=\"%.2f\", newline='\\t')\n",
        "print()\n",
        "\n",
        "for i in range(5):\n",
        "  dist_std[i] = distance.euclidean(samples[i], x_6)\n",
        "\n",
        "print(\"The Euclidean distance between each point of the data set and the new point x6: \")\n",
        "np.savetxt(sys.stdout, dist_std, fmt=\"%.4f\", newline='\\t')\n",
        "print()\n",
        "\n",
        "for i in range(5):\n",
        "  dist_mink[i] = distance.minkowski(samples[i], x_6, p=3)\n",
        "\n",
        "print(\"The Minkowski distance with lambda=3 between each point of the data set and the new point x6: \")\n",
        "np.savetxt(sys.stdout, dist_mink, fmt=\"%.4f\", newline='\\t')\n",
        "print()\n",
        "\n",
        "for i in range(5):\n",
        "  dist_sup[i] = distance.chebyshev(samples[i], x_6)\n",
        "\n",
        "print(\"The Supremum distance between each point of the data set and the new point x6: \")\n",
        "np.savetxt(sys.stdout, dist_sup, fmt=\"%.2f\", newline='\\t')\n",
        "print()\n",
        "\n",
        "for i in range(5):\n",
        "  dist_cos[i] = distance.cosine(samples[i], x_6)\n",
        "\n",
        "print(\"The Cosine similarity between each point of the data set and the new point x6: \")\n",
        "np.savetxt(sys.stdout, dist_cos, fmt=\"%.6f\", newline='   ')\n",
        "print()\n",
        "\n",
        "  \n",
        "\n",
        "\n",
        "\n"
      ],
      "execution_count": null,
      "outputs": [
        {
          "output_type": "stream",
          "text": [
            "The Manhattan distance between each point of the data set and the new point x6: \n",
            "0.70\t1.38\t0.70\t2.00\t0.90\t\n",
            "The Euclidean distance between each point of the data set and the new point x6: \n",
            "0.4777\t0.8650\t0.5534\t1.6013\t0.5255\t\n",
            "The Minkowski distance with lambda=3 between each point of the data set and the new point x6: \n",
            "0.4480\t0.7579\t0.5417\t1.5659\t0.4425\t\n",
            "The Supremum distance between each point of the data set and the new point x6: \n",
            "0.44\t0.64\t0.54\t1.56\t0.36\t\n",
            "The Cosine similarity between each point of the data set and the new point x6: \n",
            "0.006975   0.025745   0.008671   0.050270   0.001018   \n"
          ],
          "name": "stdout"
        }
      ]
    },
    {
      "cell_type": "markdown",
      "metadata": {
        "id": "qJOMH3urt1lt"
      },
      "source": [
        "#Q5(b)"
      ]
    },
    {
      "cell_type": "code",
      "metadata": {
        "id": "MNerfovwt2GH",
        "colab": {
          "base_uri": "https://localhost:8080/"
        },
        "outputId": "42ee3410-d381-4328-efac-75dc02ce5300"
      },
      "source": [
        "samples = np.array([(1.4, 1.3, 2.9), \n",
        "                    (1.8, 1.1, 3.2), \n",
        "                    (1.3, 1.2, 2.9), \n",
        "                    (0.9, 3.3, 3.1), \n",
        "                    (1.5, 2.1, 3.3),\n",
        "                    (1.25, 1.74, 3.01)])\n",
        "\n",
        "dist_std = np.array([0.0, 0.0, 0.0, 0.0, 0.0])\n",
        "\n",
        "scaler = MinMaxScaler()\n",
        "\n",
        "scaler.fit(samples)\n",
        "samples_scaled = scaler.transform(samples)\n",
        "\n",
        "x_6 = samples_scaled[5]\n",
        "\n",
        "for i in range(5):\n",
        "  dist_std[i] = distance.euclidean(samples_scaled[i], x_6)\n",
        "\n",
        "print(\"The Euclidean distance between each point of the data set and the new point x6 after min-max normalization: \")\n",
        "np.savetxt(sys.stdout, dist_cos, fmt=\"%.6f\", newline='   ')\n",
        "print()\n"
      ],
      "execution_count": null,
      "outputs": [
        {
          "output_type": "stream",
          "text": [
            "The Euclidean distance between each point of the data set and the new point x6 after min-max normalization: \n",
            "0.006975   0.025745   0.008671   0.050270   0.001018   \n"
          ],
          "name": "stdout"
        }
      ]
    },
    {
      "cell_type": "markdown",
      "metadata": {
        "id": "dMMPhX1wN94M"
      },
      "source": [
        "#Q6"
      ]
    },
    {
      "cell_type": "markdown",
      "metadata": {
        "id": "iEFwGkpab8Rq"
      },
      "source": [
        "#Q6(a)"
      ]
    },
    {
      "cell_type": "code",
      "metadata": {
        "colab": {
          "base_uri": "https://localhost:8080/",
          "height": 298
        },
        "id": "qce-N_P4b_XB",
        "outputId": "22725038-8d39-4404-b29e-d54fe7af72e9"
      },
      "source": [
        "pokemon_data = pd.read_csv('Pokemon.csv')\n",
        "pokemon_cluster_data = pokemon_data[['HP','Attack','Defense','SpAtk','SpDef','Speed']]\n",
        "boxplot = sb.boxplot(data=pokemon_cluster_data)\n",
        "plt.title('Data subset of interest for clustering')"
      ],
      "execution_count": null,
      "outputs": [
        {
          "output_type": "execute_result",
          "data": {
            "text/plain": [
              "Text(0.5, 1.0, 'Data subset of interest for clustering')"
            ]
          },
          "metadata": {
            "tags": []
          },
          "execution_count": 10
        },
        {
          "output_type": "display_data",
          "data": {
            "image/png": "[encoded data removed]",
            "text/plain": [
              "<Figure size 432x288 with 1 Axes>"
            ]
          },
          "metadata": {
            "tags": [],
            "needs_background": "light"
          }
        }
      ]
    },
    {
      "cell_type": "markdown",
      "metadata": {
        "id": "quPJRFozkpcY"
      },
      "source": [
        "#Q6(b)"
      ]
    },
    {
      "cell_type": "code",
      "metadata": {
        "id": "XbPEoGFfkrjI"
      },
      "source": [
        "scaler = MinMaxScaler()\n",
        "normalized_pokemon_cluster_data = pd.DataFrame(scaler.fit_transform(pokemon_cluster_data))\n",
        "normalized_pokemon_cluster_data.columns = ['HP','Attack','Defense','SpAtk','SpDef','Speed']"
      ],
      "execution_count": null,
      "outputs": []
    },
    {
      "cell_type": "markdown",
      "metadata": {
        "id": "FPfmFHvkmqKd"
      },
      "source": [
        "#Q6(c)"
      ]
    },
    {
      "cell_type": "code",
      "metadata": {
        "id": "CqOH1eI9msAG"
      },
      "source": [
        "for k in range(2,8):\n",
        "  kmeans = KMeans(n_clusters=k, random_state=0).fit(normalized_pokemon_cluster_data)\n",
        "  if(k == 5):\n",
        "    centroids = kmeans.cluster_centers_"
      ],
      "execution_count": null,
      "outputs": []
    },
    {
      "cell_type": "markdown",
      "metadata": {
        "id": "VABNmz4SqW0R"
      },
      "source": [
        "#Q6(d)"
      ]
    },
    {
      "cell_type": "code",
      "metadata": {
        "colab": {
          "base_uri": "https://localhost:8080/"
        },
        "id": "0kUdnFa0qXX4",
        "outputId": "46718378-4ee7-49f8-bfd8-28408ae78816"
      },
      "source": [
        "print(f\"Estimated optimal K = {gapstat(X=normalized_pokemon_cluster_data, max_k=8,calcStats=False)[0]}\")"
      ],
      "execution_count": null,
      "outputs": [
        {
          "output_type": "stream",
          "text": [
            "Estimated optimal K = 5\n"
          ],
          "name": "stdout"
        }
      ]
    },
    {
      "cell_type": "markdown",
      "metadata": {
        "id": "Yf7ePI1ntfJx"
      },
      "source": [
        "#Q6(e)"
      ]
    },
    {
      "cell_type": "code",
      "metadata": {
        "colab": {
          "base_uri": "https://localhost:8080/"
        },
        "id": "MCmhRrhmtfhE",
        "outputId": "448c4ce9-a05f-4d40-c5c3-61a3d6ede5ed"
      },
      "source": [
        "row_labels = ['HP','Attack','Defense','SpAtk','SpDef','Speed']\n",
        "column_labels = ['Group 1','Group 2','Group 3','Group 4','Group 5']\n",
        "#print(centroids)\n",
        "kmeans_result = pd.DataFrame(centroids.T,index=row_labels,columns=column_labels)\n",
        "print('With K=5 groups:')\n",
        "print(kmeans_result)"
      ],
      "execution_count": null,
      "outputs": [
        {
          "output_type": "stream",
          "text": [
            "With K=5 groups:\n",
            "          Group 1   Group 2   Group 3   Group 4   Group 5\n",
            "HP       0.311234  0.271102  0.201631  0.344903  0.302205\n",
            "Attack   0.566536  0.399135  0.261892  0.615884  0.339027\n",
            "Defense  0.427651  0.254785  0.209032  0.379103  0.390293\n",
            "SpAtk    0.268711  0.386377  0.201262  0.612319  0.430522\n",
            "SpDef    0.253326  0.242254  0.140085  0.361404  0.382210\n",
            "Speed    0.326848  0.520305  0.251286  0.545965  0.286446\n"
          ],
          "name": "stdout"
        }
      ]
    },
    {
      "cell_type": "markdown",
      "metadata": {
        "id": "lHrLZfMkztW6"
      },
      "source": [
        "#Q6(f)"
      ]
    },
    {
      "cell_type": "code",
      "metadata": {
        "colab": {
          "base_uri": "https://localhost:8080/"
        },
        "id": "I6Y6M06YzwhL",
        "outputId": "8d6a42da-51c7-4741-b183-a8120008e8c6"
      },
      "source": [
        "#Get optimal K according to gap statistic\n",
        "nonnormalized_optimal_k = gapstat(X=pokemon_cluster_data, max_k=8,calcStats=False)[0]\n",
        "#Run K-means with optimal K\n",
        "nonnormalized_kmeans = KMeans(n_clusters=nonnormalized_optimal_k, random_state=0).fit(pokemon_cluster_data)\n",
        "#Retrieve centroids of data clustered with optimal K\n",
        "nonnormalized_kmeans_centroids = nonnormalized_kmeans.cluster_centers_\n",
        "#Report final centroids\n",
        "groups = []\n",
        "for x in range(0,nonnormalized_optimal_k) : groups.append(f\"Group {x+1}\")\n",
        "\n",
        "nonnormalized_kmeans_result = pd.DataFrame(nonnormalized_kmeans_centroids.T,index=row_labels,columns=groups)\n",
        "print(f\"With K={nonnormalized_optimal_k} groups:\")\n",
        "print(nonnormalized_kmeans_result)"
      ],
      "execution_count": null,
      "outputs": [
        {
          "output_type": "stream",
          "text": [
            "With K=5 groups:\n",
            "           Group 1    Group 2    Group 3     Group 4     Group 5\n",
            "HP       83.154321  49.887681  74.656627   89.509259   69.397727\n",
            "Attack   67.759259  53.753623  95.951807  120.925926   95.454545\n",
            "Defense  74.858025  51.550725  68.686747   92.879630  128.250000\n",
            "SpAtk    92.648148  47.322464  69.373494  123.111111   61.068182\n",
            "SpDef    89.950617  48.858696  68.325301   97.861111   85.840909\n",
            "Speed    67.345679  49.605072  89.548193  100.287037   49.147727\n"
          ],
          "name": "stdout"
        }
      ]
    },
    {
      "cell_type": "markdown",
      "metadata": {
        "id": "yMGcXAKzbI2O"
      },
      "source": [
        "#Q6(g)"
      ]
    },
    {
      "cell_type": "code",
      "metadata": {
        "colab": {
          "base_uri": "https://localhost:8080/",
          "height": 542
        },
        "id": "sks880rubIVs",
        "outputId": "d0a47938-957f-402e-c055-a73f115b830a"
      },
      "source": [
        "fig = go.Figure()\n",
        "\n",
        "fig.add_trace(go.Scatterpolar(\n",
        "    r=kmeans_result['Group 1'],\n",
        "    theta=row_labels,\n",
        "    fill='toself',\n",
        "    name='Group 1'\n",
        "))\n",
        "\n",
        "fig.add_trace(go.Scatterpolar(\n",
        "    r=kmeans_result['Group 2'],\n",
        "    theta=row_labels,\n",
        "    fill='toself',\n",
        "    name='Group 2'\n",
        "))\n",
        "\n",
        "fig.add_trace(go.Scatterpolar(\n",
        "    r=kmeans_result['Group 3'],\n",
        "    theta=row_labels,\n",
        "    fill='toself',\n",
        "    name='Group 3'\n",
        "))\n",
        "\n",
        "fig.add_trace(go.Scatterpolar(\n",
        "    r=kmeans_result['Group 4'],\n",
        "    theta=row_labels,\n",
        "    fill='toself',\n",
        "    name='Group 4'\n",
        "))\n",
        "\n",
        "fig.add_trace(go.Scatterpolar(\n",
        "    r=kmeans_result['Group 5'],\n",
        "    theta=row_labels,\n",
        "    fill='toself',\n",
        "    name='Group 5'\n",
        "))\n",
        "\n",
        "fig.update_layout(\n",
        "    polar=dict(\n",
        "        radialaxis=dict(\n",
        "            visible=True,\n",
        "            range=[0,0.65]\n",
        "        )),\n",
        "        showlegend=True\n",
        ")\n",
        "\n",
        "fig.show()"
      ],
      "execution_count": null,
      "outputs": [
        {
          "output_type": "display_data",
          "data": {
            "text/html": [
              "<html>\n",
              "<head><meta charset=\"utf-8\" /></head>\n",
              "<body>\n",
              "    <div>\n",
              "            <script src=\"https://cdnjs.cloudflare.com/ajax/libs/mathjax/2.7.5/MathJax.js?config=TeX-AMS-MML_SVG\"></script><script type=\"text/javascript\">if (window.MathJax) {MathJax.Hub.Config({SVG: {font: \"STIX-Web\"}});}</script>\n",
              "                <script type=\"text/javascript\">window.PlotlyConfig = {MathJaxConfig: 'local'};</script>\n",
              "        <script src=\"https://cdn.plot.ly/plotly-latest.min.js\"></script>    \n",
              "            <div id=\"b6152eea-9334-43e2-af25-f674c6e821b2\" class=\"plotly-graph-div\" style=\"height:525px; width:100%;\"></div>\n",
              "            <script type=\"text/javascript\">\n",
              "                \n",
              "                    window.PLOTLYENV=window.PLOTLYENV || {};\n",
              "                    \n",
              "                if (document.getElementById(\"b6152eea-9334-43e2-af25-f674c6e821b2\")) {\n",
              "                    Plotly.newPlot(\n",
              "                        'b6152eea-9334-43e2-af25-f674c6e821b2',\n",
              "                        [{\"fill\": \"toself\", \"name\": \"Group 1\", \"r\": [0.31123399651379463, 0.5665360016505055, 0.42765055131467344, 0.2687105874543644, 0.2533260632497274, 0.3268484187568157], \"theta\": [\"HP\", \"Attack\", \"Defense\", \"SpAtk\", \"SpDef\", \"Speed\"], \"type\": \"scatterpolar\"}, {\"fill\": \"toself\", \"name\": \"Group 2\", \"r\": [0.2711023622047244, 0.39913513513513516, 0.2547851851851852, 0.3863768115942029, 0.24225396825396828, 0.5203047619047618], \"theta\": [\"HP\", \"Attack\", \"Defense\", \"SpAtk\", \"SpDef\", \"Speed\"], \"type\": \"scatterpolar\"}, {\"fill\": \"toself\", \"name\": \"Group 3\", \"r\": [0.20163104611923507, 0.2618918918918919, 0.20903174603174585, 0.20126164596273277, 0.1400850340136056, 0.2512857142857144], \"theta\": [\"HP\", \"Attack\", \"Defense\", \"SpAtk\", \"SpDef\", \"Speed\"], \"type\": \"scatterpolar\"}, {\"fill\": \"toself\", \"name\": \"Group 4\", \"r\": [0.34490261085785334, 0.6158843053579895, 0.37910331384015594, 0.6123188405797101, 0.36140350877192995, 0.5459649122807017], \"theta\": [\"HP\", \"Attack\", \"Defense\", \"SpAtk\", \"SpDef\", \"Speed\"], \"type\": \"scatterpolar\"}, {\"fill\": \"toself\", \"name\": \"Group 5\", \"r\": [0.3022047244094488, 0.33902702702702703, 0.3902933333333333, 0.4305217391304348, 0.38220952380952394, 0.2864457142857143], \"theta\": [\"HP\", \"Attack\", \"Defense\", \"SpAtk\", \"SpDef\", \"Speed\"], \"type\": \"scatterpolar\"}],\n",
              "                        {\"polar\": {\"radialaxis\": {\"range\": [0, 0.65], \"visible\": true}}, \"showlegend\": true, \"template\": {\"data\": {\"bar\": [{\"error_x\": {\"color\": \"#2a3f5f\"}, \"error_y\": {\"color\": \"#2a3f5f\"}, \"marker\": {\"line\": {\"color\": \"#E5ECF6\", \"width\": 0.5}}, \"type\": \"bar\"}], \"barpolar\": [{\"marker\": {\"line\": {\"color\": \"#E5ECF6\", \"width\": 0.5}}, \"type\": \"barpolar\"}], \"carpet\": [{\"aaxis\": {\"endlinecolor\": \"#2a3f5f\", \"gridcolor\": \"white\", \"linecolor\": \"white\", \"minorgridcolor\": \"white\", \"startlinecolor\": \"#2a3f5f\"}, \"baxis\": {\"endlinecolor\": \"#2a3f5f\", \"gridcolor\": \"white\", \"linecolor\": \"white\", \"minorgridcolor\": \"white\", \"startlinecolor\": \"#2a3f5f\"}, \"type\": \"carpet\"}], \"choropleth\": [{\"colorbar\": {\"outlinewidth\": 0, \"ticks\": \"\"}, \"type\": \"choropleth\"}], \"contour\": [{\"colorbar\": {\"outlinewidth\": 0, \"ticks\": \"\"}, \"colorscale\": [[0.0, \"#0d0887\"], [0.1111111111111111, \"#46039f\"], [0.2222222222222222, \"#7201a8\"], [0.3333333333333333, \"#9c179e\"], [0.4444444444444444, \"#bd3786\"], [0.5555555555555556, \"#d8576b\"], [0.6666666666666666, \"#ed7953\"], [0.7777777777777778, \"#fb9f3a\"], [0.8888888888888888, \"#fdca26\"], [1.0, \"#f0f921\"]], \"type\": \"contour\"}], \"contourcarpet\": [{\"colorbar\": {\"outlinewidth\": 0, \"ticks\": \"\"}, \"type\": \"contourcarpet\"}], \"heatmap\": [{\"colorbar\": {\"outlinewidth\": 0, \"ticks\": \"\"}, \"colorscale\": [[0.0, \"#0d0887\"], [0.1111111111111111, \"#46039f\"], [0.2222222222222222, \"#7201a8\"], [0.3333333333333333, \"#9c179e\"], [0.4444444444444444, \"#bd3786\"], [0.5555555555555556, \"#d8576b\"], [0.6666666666666666, \"#ed7953\"], [0.7777777777777778, \"#fb9f3a\"], [0.8888888888888888, \"#fdca26\"], [1.0, \"#f0f921\"]], \"type\": \"heatmap\"}], \"heatmapgl\": [{\"colorbar\": {\"outlinewidth\": 0, \"ticks\": \"\"}, \"colorscale\": [[0.0, \"#0d0887\"], [0.1111111111111111, \"#46039f\"], [0.2222222222222222, \"#7201a8\"], [0.3333333333333333, \"#9c179e\"], [0.4444444444444444, \"#bd3786\"], [0.5555555555555556, \"#d8576b\"], [0.6666666666666666, \"#ed7953\"], [0.7777777777777778, \"#fb9f3a\"], [0.8888888888888888, \"#fdca26\"], [1.0, \"#f0f921\"]], \"type\": \"heatmapgl\"}], \"histogram\": [{\"marker\": {\"colorbar\": {\"outlinewidth\": 0, \"ticks\": \"\"}}, \"type\": \"histogram\"}], \"histogram2d\": [{\"colorbar\": {\"outlinewidth\": 0, \"ticks\": \"\"}, \"colorscale\": [[0.0, \"#0d0887\"], [0.1111111111111111, \"#46039f\"], [0.2222222222222222, \"#7201a8\"], [0.3333333333333333, \"#9c179e\"], [0.4444444444444444, \"#bd3786\"], [0.5555555555555556, \"#d8576b\"], [0.6666666666666666, \"#ed7953\"], [0.7777777777777778, \"#fb9f3a\"], [0.8888888888888888, \"#fdca26\"], [1.0, \"#f0f921\"]], \"type\": \"histogram2d\"}], \"histogram2dcontour\": [{\"colorbar\": {\"outlinewidth\": 0, \"ticks\": \"\"}, \"colorscale\": [[0.0, \"#0d0887\"], [0.1111111111111111, \"#46039f\"], [0.2222222222222222, \"#7201a8\"], [0.3333333333333333, \"#9c179e\"], [0.4444444444444444, \"#bd3786\"], [0.5555555555555556, \"#d8576b\"], [0.6666666666666666, \"#ed7953\"], [0.7777777777777778, \"#fb9f3a\"], [0.8888888888888888, \"#fdca26\"], [1.0, \"#f0f921\"]], \"type\": \"histogram2dcontour\"}], \"mesh3d\": [{\"colorbar\": {\"outlinewidth\": 0, \"ticks\": \"\"}, \"type\": \"mesh3d\"}], \"parcoords\": [{\"line\": {\"colorbar\": {\"outlinewidth\": 0, \"ticks\": \"\"}}, \"type\": \"parcoords\"}], \"pie\": [{\"automargin\": true, \"type\": \"pie\"}], \"scatter\": [{\"marker\": {\"colorbar\": {\"outlinewidth\": 0, \"ticks\": \"\"}}, \"type\": \"scatter\"}], \"scatter3d\": [{\"line\": {\"colorbar\": {\"outlinewidth\": 0, \"ticks\": \"\"}}, \"marker\": {\"colorbar\": {\"outlinewidth\": 0, \"ticks\": \"\"}}, \"type\": \"scatter3d\"}], \"scattercarpet\": [{\"marker\": {\"colorbar\": {\"outlinewidth\": 0, \"ticks\": \"\"}}, \"type\": \"scattercarpet\"}], \"scattergeo\": [{\"marker\": {\"colorbar\": {\"outlinewidth\": 0, \"ticks\": \"\"}}, \"type\": \"scattergeo\"}], \"scattergl\": [{\"marker\": {\"colorbar\": {\"outlinewidth\": 0, \"ticks\": \"\"}}, \"type\": \"scattergl\"}], \"scattermapbox\": [{\"marker\": {\"colorbar\": {\"outlinewidth\": 0, \"ticks\": \"\"}}, \"type\": \"scattermapbox\"}], \"scatterpolar\": [{\"marker\": {\"colorbar\": {\"outlinewidth\": 0, \"ticks\": \"\"}}, \"type\": \"scatterpolar\"}], \"scatterpolargl\": [{\"marker\": {\"colorbar\": {\"outlinewidth\": 0, \"ticks\": \"\"}}, \"type\": \"scatterpolargl\"}], \"scatterternary\": [{\"marker\": {\"colorbar\": {\"outlinewidth\": 0, \"ticks\": \"\"}}, \"type\": \"scatterternary\"}], \"surface\": [{\"colorbar\": {\"outlinewidth\": 0, \"ticks\": \"\"}, \"colorscale\": [[0.0, \"#0d0887\"], [0.1111111111111111, \"#46039f\"], [0.2222222222222222, \"#7201a8\"], [0.3333333333333333, \"#9c179e\"], [0.4444444444444444, \"#bd3786\"], [0.5555555555555556, \"#d8576b\"], [0.6666666666666666, \"#ed7953\"], [0.7777777777777778, \"#fb9f3a\"], [0.8888888888888888, \"#fdca26\"], [1.0, \"#f0f921\"]], \"type\": \"surface\"}], \"table\": [{\"cells\": {\"fill\": {\"color\": \"#EBF0F8\"}, \"line\": {\"color\": \"white\"}}, \"header\": {\"fill\": {\"color\": \"#C8D4E3\"}, \"line\": {\"color\": \"white\"}}, \"type\": \"table\"}]}, \"layout\": {\"annotationdefaults\": {\"arrowcolor\": \"#2a3f5f\", \"arrowhead\": 0, \"arrowwidth\": 1}, \"coloraxis\": {\"colorbar\": {\"outlinewidth\": 0, \"ticks\": \"\"}}, \"colorscale\": {\"diverging\": [[0, \"#8e0152\"], [0.1, \"#c51b7d\"], [0.2, \"#de77ae\"], [0.3, \"#f1b6da\"], [0.4, \"#fde0ef\"], [0.5, \"#f7f7f7\"], [0.6, \"#e6f5d0\"], [0.7, \"#b8e186\"], [0.8, \"#7fbc41\"], [0.9, \"#4d9221\"], [1, \"#276419\"]], \"sequential\": [[0.0, \"#0d0887\"], [0.1111111111111111, \"#46039f\"], [0.2222222222222222, \"#7201a8\"], [0.3333333333333333, \"#9c179e\"], [0.4444444444444444, \"#bd3786\"], [0.5555555555555556, \"#d8576b\"], [0.6666666666666666, \"#ed7953\"], [0.7777777777777778, \"#fb9f3a\"], [0.8888888888888888, \"#fdca26\"], [1.0, \"#f0f921\"]], \"sequentialminus\": [[0.0, \"#0d0887\"], [0.1111111111111111, \"#46039f\"], [0.2222222222222222, \"#7201a8\"], [0.3333333333333333, \"#9c179e\"], [0.4444444444444444, \"#bd3786\"], [0.5555555555555556, \"#d8576b\"], [0.6666666666666666, \"#ed7953\"], [0.7777777777777778, \"#fb9f3a\"], [0.8888888888888888, \"#fdca26\"], [1.0, \"#f0f921\"]]}, \"colorway\": [\"#636efa\", \"#EF553B\", \"#00cc96\", \"#ab63fa\", \"#FFA15A\", \"#19d3f3\", \"#FF6692\", \"#B6E880\", \"#FF97FF\", \"#FECB52\"], \"font\": {\"color\": \"#2a3f5f\"}, \"geo\": {\"bgcolor\": \"white\", \"lakecolor\": \"white\", \"landcolor\": \"#E5ECF6\", \"showlakes\": true, \"showland\": true, \"subunitcolor\": \"white\"}, \"hoverlabel\": {\"align\": \"left\"}, \"hovermode\": \"closest\", \"mapbox\": {\"style\": \"light\"}, \"paper_bgcolor\": \"white\", \"plot_bgcolor\": \"#E5ECF6\", \"polar\": {\"angularaxis\": {\"gridcolor\": \"white\", \"linecolor\": \"white\", \"ticks\": \"\"}, \"bgcolor\": \"#E5ECF6\", \"radialaxis\": {\"gridcolor\": \"white\", \"linecolor\": \"white\", \"ticks\": \"\"}}, \"scene\": {\"xaxis\": {\"backgroundcolor\": \"#E5ECF6\", \"gridcolor\": \"white\", \"gridwidth\": 2, \"linecolor\": \"white\", \"showbackground\": true, \"ticks\": \"\", \"zerolinecolor\": \"white\"}, \"yaxis\": {\"backgroundcolor\": \"#E5ECF6\", \"gridcolor\": \"white\", \"gridwidth\": 2, \"linecolor\": \"white\", \"showbackground\": true, \"ticks\": \"\", \"zerolinecolor\": \"white\"}, \"zaxis\": {\"backgroundcolor\": \"#E5ECF6\", \"gridcolor\": \"white\", \"gridwidth\": 2, \"linecolor\": \"white\", \"showbackground\": true, \"ticks\": \"\", \"zerolinecolor\": \"white\"}}, \"shapedefaults\": {\"line\": {\"color\": \"#2a3f5f\"}}, \"ternary\": {\"aaxis\": {\"gridcolor\": \"white\", \"linecolor\": \"white\", \"ticks\": \"\"}, \"baxis\": {\"gridcolor\": \"white\", \"linecolor\": \"white\", \"ticks\": \"\"}, \"bgcolor\": \"#E5ECF6\", \"caxis\": {\"gridcolor\": \"white\", \"linecolor\": \"white\", \"ticks\": \"\"}}, \"title\": {\"x\": 0.05}, \"xaxis\": {\"automargin\": true, \"gridcolor\": \"white\", \"linecolor\": \"white\", \"ticks\": \"\", \"title\": {\"standoff\": 15}, \"zerolinecolor\": \"white\", \"zerolinewidth\": 2}, \"yaxis\": {\"automargin\": true, \"gridcolor\": \"white\", \"linecolor\": \"white\", \"ticks\": \"\", \"title\": {\"standoff\": 15}, \"zerolinecolor\": \"white\", \"zerolinewidth\": 2}}}},\n",
              "                        {\"responsive\": true}\n",
              "                    ).then(function(){\n",
              "                            \n",
              "var gd = document.getElementById('b6152eea-9334-43e2-af25-f674c6e821b2');\n",
              "var x = new MutationObserver(function (mutations, observer) {{\n",
              "        var display = window.getComputedStyle(gd).display;\n",
              "        if (!display || display === 'none') {{\n",
              "            console.log([gd, 'removed!']);\n",
              "            Plotly.purge(gd);\n",
              "            observer.disconnect();\n",
              "        }}\n",
              "}});\n",
              "\n",
              "// Listen for the removal of the full notebook cells\n",
              "var notebookContainer = gd.closest('#notebook-container');\n",
              "if (notebookContainer) {{\n",
              "    x.observe(notebookContainer, {childList: true});\n",
              "}}\n",
              "\n",
              "// Listen for the clearing of the current output cell\n",
              "var outputEl = gd.closest('.output');\n",
              "if (outputEl) {{\n",
              "    x.observe(outputEl, {childList: true});\n",
              "}}\n",
              "\n",
              "                        })\n",
              "                };\n",
              "                \n",
              "            </script>\n",
              "        </div>\n",
              "</body>\n",
              "</html>"
            ]
          },
          "metadata": {
            "tags": []
          }
        }
      ]
    },
    {
      "cell_type": "markdown",
      "metadata": {
        "id": "Ub91zLkXXLqA"
      },
      "source": [
        "# Q7"
      ]
    },
    {
      "cell_type": "code",
      "metadata": {
        "id": "5y0H9CVBifJc",
        "colab": {
          "base_uri": "https://localhost:8080/",
          "height": 504
        },
        "outputId": "5e6ac773-bbba-4be1-d61f-595605f9d4bf"
      },
      "source": [
        "music_data = pd.read_csv('music2.csv')\n",
        "\n",
        "# Standardize data\n",
        "music_data[['LVar', 'LAve', 'LMax', 'LFEner', 'LFreq']] = StandardScaler().fit_transform(music_data[['LVar', 'LAve', 'LMax', 'LFEner', 'LFreq']])\n",
        "\n",
        "# Single linkage hierarchical clustering by type\n",
        "music_data_type = music_data.set_index('Type')\n",
        "music_single_link_type = linkage(music_data_type[['LVar', 'LAve', 'LMax', 'LFEner', 'LFreq']], 'single')\n",
        "# Dendrogram of above\n",
        "fig = plt.figure(figsize=(15,8))\n",
        "dn = dendrogram(music_single_link_type, labels=music_data_type.index)"
      ],
      "execution_count": null,
      "outputs": [
        {
          "output_type": "display_data",
          "data": {
            "image/png": "[encoded data removed]",
            "text/plain": [
              "<Figure size 1080x576 with 1 Axes>"
            ]
          },
          "metadata": {
            "tags": [],
            "needs_background": "light"
          }
        }
      ]
    },
    {
      "cell_type": "code",
      "metadata": {
        "colab": {
          "base_uri": "https://localhost:8080/",
          "height": 504
        },
        "id": "P-6QXDPVku6P",
        "outputId": "deb0cf19-5a7f-44c7-9d3d-7434a7026299"
      },
      "source": [
        "# Complete linkage hierarchical clustering by type\n",
        "music_complete_link_type = linkage(music_data_type[['LVar', 'LAve', 'LMax', 'LFEner', 'LFreq']], 'complete')\n",
        "# Dendrogram of above\n",
        "fig = plt.figure(figsize=(15,8))\n",
        "dn = dendrogram(music_complete_link_type, labels=music_data_type.index)"
      ],
      "execution_count": null,
      "outputs": [
        {
          "output_type": "display_data",
          "data": {
            "image/png": "[encoded data removed]",
            "text/plain": [
              "<Figure size 1080x576 with 1 Axes>"
            ]
          },
          "metadata": {
            "tags": [],
            "needs_background": "light"
          }
        }
      ]
    },
    {
      "cell_type": "code",
      "metadata": {
        "colab": {
          "base_uri": "https://localhost:8080/",
          "height": 505
        },
        "id": "vHzYs5bZloUz",
        "outputId": "fcf70c74-ac19-4f56-fb7e-858a73f330d0"
      },
      "source": [
        "# Single linkage hierarchical clustering by artist\n",
        "music_data_artist = music_data.set_index('Artist')\n",
        "music_single_link_artist = linkage(music_data_artist[['LVar', 'LAve', 'LMax', 'LFEner', 'LFreq']], 'single')\n",
        "# Dendrogram of above\n",
        "fig = plt.figure(figsize=(15,8))\n",
        "dn = dendrogram(music_single_link_artist, labels=music_data_artist.index)"
      ],
      "execution_count": null,
      "outputs": [
        {
          "output_type": "display_data",
          "data": {
            "image/png": "[encoded data removed]",
            "text/plain": [
              "<Figure size 1080x576 with 1 Axes>"
            ]
          },
          "metadata": {
            "tags": [],
            "needs_background": "light"
          }
        }
      ]
    },
    {
      "cell_type": "code",
      "metadata": {
        "colab": {
          "base_uri": "https://localhost:8080/",
          "height": 505
        },
        "id": "EsNh-hVym8p5",
        "outputId": "2d0ebb40-8303-4eee-a819-112a94fe5f91"
      },
      "source": [
        "# Complete linkage hierarchical clustering by artist\n",
        "music_complete_link_artist = linkage(music_data_artist[['LVar', 'LAve', 'LMax', 'LFEner', 'LFreq']], 'complete')\n",
        "# Dendrogram of above\n",
        "fig = plt.figure(figsize=(15,8))\n",
        "dn = dendrogram(music_complete_link_artist, labels=music_data_artist.index)"
      ],
      "execution_count": null,
      "outputs": [
        {
          "output_type": "display_data",
          "data": {
            "image/png": "[encoded data removed]",
            "text/plain": [
              "<Figure size 1080x576 with 1 Axes>"
            ]
          },
          "metadata": {
            "tags": [],
            "needs_background": "light"
          }
        }
      ]
    },
    {
      "cell_type": "markdown",
      "metadata": {
        "id": "9dgEPSEV4W-R"
      },
      "source": [
        "The complete linkage method seems to form more logical clusters than the single linkage method. This difference is most pronounced in the Type-labeled dendrograms. The single-linkage method seemed to cluster together Rock and Classical much more readily. By contrast, the complete-linkage method seemed to group more logically by type, starting off with related genres more closely connected."
      ]
    }
  ]
}