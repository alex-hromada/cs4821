{
 "cells": [
  {
   "cell_type": "markdown",
   "metadata": {
    "id": "3a_k37wMdU5f"
   },
   "source": [
    "# P1\n",
    "## Alex Hromada \n",
    "\n",
    " \n"
   ]
  },
  {
   "cell_type": "code",
   "execution_count": 50,
   "metadata": {
    "id": "vHO5ETnZdU5s"
   },
   "outputs": [],
   "source": [
    "import pandas as pd\n",
    "import numpy as np\n",
    "import matplotlib as mpl\n",
    "import matplotlib.pyplot as plt\n",
    "import seaborn as sb\n",
    "%matplotlib inline"
   ]
  },
  {
   "cell_type": "code",
   "execution_count": 118,
   "metadata": {},
   "outputs": [
    {
     "data": {
      "text/html": [
       "<div>\n",
       "<style scoped>\n",
       "    .dataframe tbody tr th:only-of-type {\n",
       "        vertical-align: middle;\n",
       "    }\n",
       "\n",
       "    .dataframe tbody tr th {\n",
       "        vertical-align: top;\n",
       "    }\n",
       "\n",
       "    .dataframe thead th {\n",
       "        text-align: right;\n",
       "    }\n",
       "</style>\n",
       "<table border=\"1\" class=\"dataframe\">\n",
       "  <thead>\n",
       "    <tr style=\"text-align: right;\">\n",
       "      <th></th>\n",
       "      <th>Rk</th>\n",
       "      <th>Player</th>\n",
       "      <th>Tm</th>\n",
       "      <th>Age</th>\n",
       "      <th>Pos</th>\n",
       "      <th>G</th>\n",
       "      <th>GS</th>\n",
       "      <th>Att</th>\n",
       "      <th>Yds</th>\n",
       "      <th>TD</th>\n",
       "      <th>1D</th>\n",
       "      <th>Lng</th>\n",
       "      <th>Y/A</th>\n",
       "      <th>Y/G</th>\n",
       "      <th>Fmb</th>\n",
       "    </tr>\n",
       "  </thead>\n",
       "  <tbody>\n",
       "    <tr>\n",
       "      <th>0</th>\n",
       "      <td>1</td>\n",
       "      <td>Derrick Henry *\\HenrDe00</td>\n",
       "      <td>TEN</td>\n",
       "      <td>26</td>\n",
       "      <td>RB</td>\n",
       "      <td>16</td>\n",
       "      <td>16</td>\n",
       "      <td>378</td>\n",
       "      <td>2027</td>\n",
       "      <td>17</td>\n",
       "      <td>98</td>\n",
       "      <td>94</td>\n",
       "      <td>5.4</td>\n",
       "      <td>126.7</td>\n",
       "      <td>3</td>\n",
       "    </tr>\n",
       "    <tr>\n",
       "      <th>1</th>\n",
       "      <td>2</td>\n",
       "      <td>Dalvin Cook*\\CookDa01</td>\n",
       "      <td>MIN</td>\n",
       "      <td>25</td>\n",
       "      <td>RB</td>\n",
       "      <td>14</td>\n",
       "      <td>14</td>\n",
       "      <td>312</td>\n",
       "      <td>1557</td>\n",
       "      <td>16</td>\n",
       "      <td>91</td>\n",
       "      <td>70</td>\n",
       "      <td>5.0</td>\n",
       "      <td>111.2</td>\n",
       "      <td>5</td>\n",
       "    </tr>\n",
       "    <tr>\n",
       "      <th>2</th>\n",
       "      <td>3</td>\n",
       "      <td>Josh Jacobs*\\JacoJo01</td>\n",
       "      <td>LVR</td>\n",
       "      <td>22</td>\n",
       "      <td>RB</td>\n",
       "      <td>15</td>\n",
       "      <td>15</td>\n",
       "      <td>273</td>\n",
       "      <td>1065</td>\n",
       "      <td>12</td>\n",
       "      <td>61</td>\n",
       "      <td>28</td>\n",
       "      <td>3.9</td>\n",
       "      <td>71.0</td>\n",
       "      <td>2</td>\n",
       "    </tr>\n",
       "    <tr>\n",
       "      <th>3</th>\n",
       "      <td>4</td>\n",
       "      <td>David Montgomery\\MontDa01</td>\n",
       "      <td>CHI</td>\n",
       "      <td>23</td>\n",
       "      <td>RB</td>\n",
       "      <td>15</td>\n",
       "      <td>14</td>\n",
       "      <td>247</td>\n",
       "      <td>1070</td>\n",
       "      <td>8</td>\n",
       "      <td>59</td>\n",
       "      <td>80</td>\n",
       "      <td>4.3</td>\n",
       "      <td>71.3</td>\n",
       "      <td>1</td>\n",
       "    </tr>\n",
       "    <tr>\n",
       "      <th>4</th>\n",
       "      <td>5</td>\n",
       "      <td>Ezekiel Elliott\\ElliEz00</td>\n",
       "      <td>DAL</td>\n",
       "      <td>25</td>\n",
       "      <td>RB</td>\n",
       "      <td>15</td>\n",
       "      <td>15</td>\n",
       "      <td>244</td>\n",
       "      <td>979</td>\n",
       "      <td>6</td>\n",
       "      <td>62</td>\n",
       "      <td>31</td>\n",
       "      <td>4.0</td>\n",
       "      <td>65.3</td>\n",
       "      <td>6</td>\n",
       "    </tr>\n",
       "  </tbody>\n",
       "</table>\n",
       "</div>"
      ],
      "text/plain": [
       "   Rk                     Player   Tm  Age Pos   G  GS  Att   Yds  TD  1D  \\\n",
       "0   1   Derrick Henry *\\HenrDe00  TEN   26  RB  16  16  378  2027  17  98   \n",
       "1   2      Dalvin Cook*\\CookDa01  MIN   25  RB  14  14  312  1557  16  91   \n",
       "2   3      Josh Jacobs*\\JacoJo01  LVR   22  RB  15  15  273  1065  12  61   \n",
       "3   4  David Montgomery\\MontDa01  CHI   23  RB  15  14  247  1070   8  59   \n",
       "4   5   Ezekiel Elliott\\ElliEz00  DAL   25  RB  15  15  244   979   6  62   \n",
       "\n",
       "   Lng  Y/A    Y/G  Fmb  \n",
       "0   94  5.4  126.7    3  \n",
       "1   70  5.0  111.2    5  \n",
       "2   28  3.9   71.0    2  \n",
       "3   80  4.3   71.3    1  \n",
       "4   31  4.0   65.3    6  "
      ]
     },
     "execution_count": 118,
     "metadata": {},
     "output_type": "execute_result"
    }
   ],
   "source": [
    "URL = \"http://archive.ics.uci.edu/ml/machine-learning-databases/adult/adult.data\"\n",
    "URL2 = \"D:/School/spring-2021/cs4821/p1/P1-data/nfl-20-running-stats.csv\"\n",
    "\n",
    "#read dataset\n",
    "adult = pd.read_csv(URL, header=None, names=['age', 'workclass', 'fnlwgt', 'education',\n",
    "                                             'education-num', 'marital-status', 'occupation', \n",
    "                                            'relationship', 'race', 'sex', 'capital-gain', \n",
    "                                            'capital-loss', 'hours-per-week', 'native-country',\n",
    "                                            'income'])\n",
    "\n",
    "nfl = pd.read_csv(URL2, header=None, names=['Rk', 'Player', 'Tm', 'Age', \n",
    "                                            'Pos', 'G', 'GS', 'Att',\n",
    "                                            'Yds', 'TD', '1D', 'Lng', \n",
    "                                            'Y/A', 'Y/G', \"Fmb\"], skiprows=[0])\n",
    "\n",
    "nfl.head()"
   ]
  },
  {
   "cell_type": "markdown",
   "metadata": {
    "id": "REUnQyqRdU5u"
   },
   "source": [
    "# Q1 \n",
    "\n"
   ]
  },
  {
   "cell_type": "markdown",
   "metadata": {
    "id": "aJTkN_FxdU5v"
   },
   "source": [
    "## Q1(a) \n",
    "\n",
    "AGE is the age of an individual as reported by that person for the 1990 census; the value is reported in integer units of\n",
    "years.\n",
    "\n",
    "WORKCLASS is the type of work/employment of an individual as reported by that person for the 1990 census; the value is reported as a string descripter.\n",
    "\n",
    "FNLWGT is a weight value of an individual based on specified socio-economic characteristics that is prepared by the Census Bureau; the value is reported as an integer value.\n",
    "\n",
    "EDUCATION is the level of education of an individual as reported by that person for the 1990 census; the value is reported as a string descriptor.\n",
    "\n",
    "EDUCATION-NUM is the number of years of education of an individual as reported by that person for the 1990 census; the value is reported in integer units of years.\n",
    "\n",
    "MARITAL-STATUS is the marital status of an individual as reported by that person for the 1990 census; the value is reported as a string descriptor.\n",
    "\n",
    "OCCUPATION is the occupation of an individual as reported by that person for the 1990 census; the value is reported as a string descriptor.\n",
    "\n",
    "RELATIONSHIP is the relationship of an individual relative to others as reported by that person for the 1990 census; the value is reported as a string descriptor\n",
    "\n",
    "RACE is the race of an individual as reported by that person for the 1990 census; the value is reported as a string descriptor.\n",
    "\n",
    "SEX is the sex of an individual as reported by that person for the 1990 census; the value is reported as a string descriptor.\n",
    "\n",
    "CAPITAL-GAIN is the amount of capital gain of an individual as reported by that person for the 1990 census; the value is reported in integer units of dollars.\n",
    "\n",
    "CAPITAL-LOSS is the amount of capital loss of an individual as reported by that person for the 1990 census; the value is reported in integer units of dollars.\n",
    "\n",
    "HOURS-PER-WEEK is the average hours worked per week of an individual as reported by that person for the 1990 census; the value is reported in integer units of hours.\n",
    "\n",
    "NATIVE-COUNTRY is the country of origin of an individual as reported by that person for the 1990 census; the value is reported as a string descriptor."
   ]
  },
  {
   "cell_type": "markdown",
   "metadata": {
    "id": "WHkHjOdJSqO7"
   },
   "source": [
    "## Q1(b)\n",
    "\n"
   ]
  },
  {
   "cell_type": "markdown",
   "metadata": {},
   "source": [
    "### Q1(b)(i)\n",
    "\n",
    "Missing data in the dataset is represented by a '?'."
   ]
  },
  {
   "cell_type": "markdown",
   "metadata": {},
   "source": [
    "### Q1(b)(ii)"
   ]
  },
  {
   "cell_type": "code",
   "execution_count": 62,
   "metadata": {},
   "outputs": [
    {
     "data": {
      "text/html": [
       "<div>\n",
       "<style scoped>\n",
       "    .dataframe tbody tr th:only-of-type {\n",
       "        vertical-align: middle;\n",
       "    }\n",
       "\n",
       "    .dataframe tbody tr th {\n",
       "        vertical-align: top;\n",
       "    }\n",
       "\n",
       "    .dataframe thead th {\n",
       "        text-align: right;\n",
       "    }\n",
       "</style>\n",
       "<table border=\"1\" class=\"dataframe\">\n",
       "  <thead>\n",
       "    <tr style=\"text-align: right;\">\n",
       "      <th></th>\n",
       "      <th>age</th>\n",
       "      <th>workclass</th>\n",
       "      <th>fnlwgt</th>\n",
       "      <th>education</th>\n",
       "      <th>education-num</th>\n",
       "      <th>marital-status</th>\n",
       "      <th>occupation</th>\n",
       "      <th>relationship</th>\n",
       "      <th>race</th>\n",
       "      <th>sex</th>\n",
       "      <th>capital-gain</th>\n",
       "      <th>capital-loss</th>\n",
       "      <th>hours-per-week</th>\n",
       "      <th>native-country</th>\n",
       "      <th>income</th>\n",
       "    </tr>\n",
       "  </thead>\n",
       "  <tbody>\n",
       "    <tr>\n",
       "      <th>27</th>\n",
       "      <td>False</td>\n",
       "      <td>False</td>\n",
       "      <td>False</td>\n",
       "      <td>False</td>\n",
       "      <td>False</td>\n",
       "      <td>False</td>\n",
       "      <td>False</td>\n",
       "      <td>False</td>\n",
       "      <td>False</td>\n",
       "      <td>False</td>\n",
       "      <td>False</td>\n",
       "      <td>False</td>\n",
       "      <td>False</td>\n",
       "      <td>False</td>\n",
       "      <td>False</td>\n",
       "    </tr>\n",
       "  </tbody>\n",
       "</table>\n",
       "</div>"
      ],
      "text/plain": [
       "      age  workclass  fnlwgt  education  education-num  marital-status  \\\n",
       "27  False      False   False      False          False           False   \n",
       "\n",
       "    occupation  relationship   race    sex  capital-gain  capital-loss  \\\n",
       "27       False         False  False  False         False         False   \n",
       "\n",
       "    hours-per-week  native-country  income  \n",
       "27           False           False   False  "
      ]
     },
     "execution_count": 62,
     "metadata": {},
     "output_type": "execute_result"
    }
   ],
   "source": [
    "# adult_missing = adult.isin(['?'])\n",
    "\n",
    "\n",
    "\n",
    "# adult_missing.loc[[27]]\n",
    "\n",
    "\n",
    "\n",
    "# adult_missing = adult.isna()\n",
    "\n",
    "# adult_missing = adult_missing.sum()\n",
    "# adult_missing\n",
    "\n",
    "\n"
   ]
  },
  {
   "cell_type": "code",
   "execution_count": 70,
   "metadata": {},
   "outputs": [
    {
     "data": {
      "text/html": [
       "<div>\n",
       "<style scoped>\n",
       "    .dataframe tbody tr th:only-of-type {\n",
       "        vertical-align: middle;\n",
       "    }\n",
       "\n",
       "    .dataframe tbody tr th {\n",
       "        vertical-align: top;\n",
       "    }\n",
       "\n",
       "    .dataframe thead th {\n",
       "        text-align: right;\n",
       "    }\n",
       "</style>\n",
       "<table border=\"1\" class=\"dataframe\">\n",
       "  <thead>\n",
       "    <tr style=\"text-align: right;\">\n",
       "      <th></th>\n",
       "      <th>age</th>\n",
       "      <th>workclass</th>\n",
       "      <th>fnlwgt</th>\n",
       "      <th>education</th>\n",
       "      <th>education-num</th>\n",
       "      <th>marital-status</th>\n",
       "      <th>occupation</th>\n",
       "      <th>relationship</th>\n",
       "      <th>race</th>\n",
       "      <th>sex</th>\n",
       "      <th>capital-gain</th>\n",
       "      <th>capital-loss</th>\n",
       "      <th>hours-per-week</th>\n",
       "      <th>native-country</th>\n",
       "      <th>income</th>\n",
       "    </tr>\n",
       "  </thead>\n",
       "  <tbody>\n",
       "    <tr>\n",
       "      <th>27</th>\n",
       "      <td>54</td>\n",
       "      <td>?</td>\n",
       "      <td>180211</td>\n",
       "      <td>Some-college</td>\n",
       "      <td>10</td>\n",
       "      <td>Married-civ-spouse</td>\n",
       "      <td>?</td>\n",
       "      <td>Husband</td>\n",
       "      <td>Asian-Pac-Islander</td>\n",
       "      <td>Male</td>\n",
       "      <td>0</td>\n",
       "      <td>0</td>\n",
       "      <td>60</td>\n",
       "      <td>South</td>\n",
       "      <td>&gt;50K</td>\n",
       "    </tr>\n",
       "  </tbody>\n",
       "</table>\n",
       "</div>"
      ],
      "text/plain": [
       "    age workclass  fnlwgt      education  education-num       marital-status  \\\n",
       "27   54         ?  180211   Some-college             10   Married-civ-spouse   \n",
       "\n",
       "   occupation relationship                 race    sex  capital-gain  \\\n",
       "27          ?      Husband   Asian-Pac-Islander   Male             0   \n",
       "\n",
       "    capital-loss  hours-per-week native-country income  \n",
       "27             0              60          South   >50K  "
      ]
     },
     "execution_count": 70,
     "metadata": {},
     "output_type": "execute_result"
    }
   ],
   "source": [
    "\n",
    "\n",
    "\n",
    "adult.loc[[27]]"
   ]
  },
  {
   "cell_type": "markdown",
   "metadata": {},
   "source": [
    "## Q1(c)\n",
    "\n",
    "Variables of a numeric datatype in this dataset include AGE, FNLWGT, EDUCATION-NUM, CAPITAL-GAIN, CAPITAL-LOSS, HOURS-PER-WEEK.\n",
    "\n",
    "Variables of a categorial datatype in this dataset include WORKCLASS, EDUCATION, MARITAL-STATUS, OCCUPATION, RELATIONSHIP, RACE, SEX, NATIVE-COUNTRY."
   ]
  },
  {
   "cell_type": "markdown",
   "metadata": {},
   "source": [
    "## Q1(d)"
   ]
  },
  {
   "cell_type": "markdown",
   "metadata": {},
   "source": [
    "### Q1(d)(i)"
   ]
  },
  {
   "cell_type": "code",
   "execution_count": 153,
   "metadata": {},
   "outputs": [
    {
     "data": {
      "image/png": "[encoded data removed]",
      "text/plain": [
       "<Figure size 432x288 with 1 Axes>"
      ]
     },
     "metadata": {
      "needs_background": "light"
     },
     "output_type": "display_data"
    },
    {
     "data": {
      "image/png": "[encoded data removed]",
      "text/plain": [
       "<Figure size 432x288 with 1 Axes>"
      ]
     },
     "metadata": {
      "needs_background": "light"
     },
     "output_type": "display_data"
    }
   ],
   "source": [
    "\n",
    "adult.hist(column='age', bins=20)\n",
    "plt.xlabel(\"Age (years)\")\n",
    "plt.ylabel(\"Count\");\n",
    "\n",
    "adult.hist(column='hours-per-week', bins=20)\n",
    "plt.xlabel(\"Hours Worked per Week\")\n",
    "plt.ylabel(\"Count\");\n"
   ]
  },
  {
   "cell_type": "markdown",
   "metadata": {},
   "source": [
    "### Q1(d)(ii)"
   ]
  },
  {
   "cell_type": "code",
   "execution_count": 83,
   "metadata": {},
   "outputs": [
    {
     "data": {
      "text/plain": [
       "Text(0.5, 1.0, 'Histogram of Hours Worked per Week and Income')"
      ]
     },
     "execution_count": 83,
     "metadata": {},
     "output_type": "execute_result"
    },
    {
     "data": {
      "image/png": "[encoded data removed]",
      "text/plain": [
       "<Figure size 435x360 with 1 Axes>"
      ]
     },
     "metadata": {
      "needs_background": "light"
     },
     "output_type": "display_data"
    },
    {
     "data": {
      "image/png": "[encoded data removed]",
      "text/plain": [
       "<Figure size 435x360 with 1 Axes>"
      ]
     },
     "metadata": {
      "needs_background": "light"
     },
     "output_type": "display_data"
    }
   ],
   "source": [
    "sb.displot(adult, x=\"age\", hue=\"income\", bins=20)\n",
    "plt.title(\"Histogram of Age and Income\")\n",
    "\n",
    "sb.displot(adult, x=\"hours-per-week\", hue=\"income\", bins=20)\n",
    "plt.title(\"Histogram of Hours Worked per Week and Income\")"
   ]
  },
  {
   "cell_type": "markdown",
   "metadata": {},
   "source": [
    "### Q1(d)(iii)"
   ]
  },
  {
   "cell_type": "code",
   "execution_count": 90,
   "metadata": {},
   "outputs": [
    {
     "data": {
      "text/plain": [
       "Text(0.5, 1.0, 'Boxplot of Ages by Income')"
      ]
     },
     "execution_count": 90,
     "metadata": {},
     "output_type": "execute_result"
    },
    {
     "data": {
      "image/png": "[encoded data removed]",
      "text/plain": [
       "<Figure size 432x288 with 1 Axes>"
      ]
     },
     "metadata": {
      "needs_background": "light"
     },
     "output_type": "display_data"
    }
   ],
   "source": [
    "sb.boxplot(x='income',\n",
    "          y='age',\n",
    "          hue='income',\n",
    "          data=adult[['age', 'income']])\n",
    "plt.title(\"Boxplot of Ages by Income\")"
   ]
  },
  {
   "cell_type": "code",
   "execution_count": 89,
   "metadata": {},
   "outputs": [
    {
     "data": {
      "text/plain": [
       "Text(0.5, 1.0, 'Boxplot of Hours Worked by Income')"
      ]
     },
     "execution_count": 89,
     "metadata": {},
     "output_type": "execute_result"
    },
    {
     "data": {
      "image/png": "[encoded data removed]",
      "text/plain": [
       "<Figure size 432x288 with 1 Axes>"
      ]
     },
     "metadata": {
      "needs_background": "light"
     },
     "output_type": "display_data"
    }
   ],
   "source": [
    "sb.boxplot(x='income',\n",
    "          y='hours-per-week',\n",
    "          hue='income',\n",
    "          data=adult[['hours-per-week', 'income']])\n",
    "plt.title(\"Boxplot of Hours Worked by Income\")"
   ]
  },
  {
   "cell_type": "markdown",
   "metadata": {},
   "source": [
    "### Q1(d)(iv)"
   ]
  },
  {
   "cell_type": "markdown",
   "metadata": {},
   "source": [
    "Plotting the data of ages with income groups of *>50k* and *<=50k* reveals a right skewed distribution with a large count of individuals under the age of 45 making less than \\\\$50k a year, and a lesser number of the older age groups making an income of less than \\\\$50k a year.  It is also revealed that the group of individuals making an income of less than \\\\$50k has a median age of around 35, compared to the group of individuals making \\\\$50k or more which has a median age of around 45.  There is an overall lower count of individuals making an income of \\\\$50k or more.  The median hours worked for both groups is centered arounf 40, however, the group making \\\\$50k or more has a higher interquartile range than the group making less than \\\\$50k.  Both groups have a large number of outliers due to the heavy amount of individuals with 40 hour work weeks."
   ]
  },
  {
   "cell_type": "markdown",
   "metadata": {},
   "source": [
    "## Q1(e)"
   ]
  },
  {
   "cell_type": "markdown",
   "metadata": {},
   "source": [
    "### Q1(e)(i)"
   ]
  },
  {
   "cell_type": "code",
   "execution_count": 154,
   "metadata": {},
   "outputs": [
    {
     "data": {
      "text/plain": [
       "Text(0.5, 1.0, 'Boxplot of Education')"
      ]
     },
     "execution_count": 154,
     "metadata": {},
     "output_type": "execute_result"
    },
    {
     "data": {
      "image/png": "[encoded data removed]",
      "text/plain": [
       "<Figure size 1080x360 with 1 Axes>"
      ]
     },
     "metadata": {
      "needs_background": "light"
     },
     "output_type": "display_data"
    }
   ],
   "source": [
    "sb.catplot(x=\"education\", kind=\"count\", aspect=3, data=adult)\n",
    "plt.title(\"Boxplot of Education\")"
   ]
  },
  {
   "cell_type": "code",
   "execution_count": 155,
   "metadata": {},
   "outputs": [
    {
     "data": {
      "text/plain": [
       "Text(0.5, 1.0, 'Boxplot of Marital Status')"
      ]
     },
     "execution_count": 155,
     "metadata": {},
     "output_type": "execute_result"
    },
    {
     "data": {
      "image/png": "[encoded data removed]",
      "text/plain": [
       "<Figure size 792x360 with 1 Axes>"
      ]
     },
     "metadata": {
      "needs_background": "light"
     },
     "output_type": "display_data"
    }
   ],
   "source": [
    "sb.catplot(x=\"marital-status\", kind=\"count\", aspect=2.2, data=adult)\n",
    "plt.title(\"Boxplot of Marital Status\")"
   ]
  },
  {
   "cell_type": "markdown",
   "metadata": {},
   "source": [
    "### Q1(e)(ii)"
   ]
  },
  {
   "cell_type": "code",
   "execution_count": 111,
   "metadata": {},
   "outputs": [
    {
     "data": {
      "text/plain": [
       "Text(0.5, 1.0, 'Boxplot of Education Separated by Income')"
      ]
     },
     "execution_count": 111,
     "metadata": {},
     "output_type": "execute_result"
    },
    {
     "data": {
      "image/png": "[encoded data removed]",
      "text/plain": [
       "<Figure size 1191x360 with 1 Axes>"
      ]
     },
     "metadata": {
      "needs_background": "light"
     },
     "output_type": "display_data"
    }
   ],
   "source": [
    "sb.catplot(x=\"education\", hue=\"income\", kind=\"count\", aspect=3.1, data=adult)\n",
    "plt.title(\"Boxplot of Education Separated by Income\")"
   ]
  },
  {
   "cell_type": "code",
   "execution_count": 114,
   "metadata": {
    "scrolled": false
   },
   "outputs": [
    {
     "data": {
      "text/plain": [
       "Text(0.5, 1.0, 'Boxplot of Marital Status Separated by Income')"
      ]
     },
     "execution_count": 114,
     "metadata": {},
     "output_type": "execute_result"
    },
    {
     "data": {
      "image/png": "[encoded data removed]",
      "text/plain": [
       "<Figure size 939x360 with 1 Axes>"
      ]
     },
     "metadata": {
      "needs_background": "light"
     },
     "output_type": "display_data"
    }
   ],
   "source": [
    "sb.catplot(x=\"marital-status\", hue=\"income\", kind=\"count\", aspect=2.4, data=adult)\n",
    "plt.title(\"Boxplot of Marital Status Separated by Income\")"
   ]
  },
  {
   "cell_type": "markdown",
   "metadata": {},
   "source": [
    "### Q1(e)(iii)"
   ]
  },
  {
   "cell_type": "markdown",
   "metadata": {},
   "source": [
    "Plotting the data of highest level of education reveals that the majority of individuals of this dataset have only a high school education, some college education, or a bachelor's degree.  The individuals with only a high school education or some college education are primarily in the group making less than \\\\$50k in income, as well as the majority of individuals in this dataset who have a bachelor's degree.  Individuals in this dataset are primarily married with a civilian spouse or never married, with the individuals reported as never married primarily making less than \\\\$50k in income, where most indivduals in the group making \\\\$50k or more in income are married with a civilian spouse.  However, the majority of individuals in this dataset that are married with a civilian spouse make under \\\\$50k in income."
   ]
  },
  {
   "cell_type": "markdown",
   "metadata": {
    "id": "PrdT7VCGdU5v"
   },
   "source": [
    "# Q2\n",
    "\n"
   ]
  },
  {
   "cell_type": "code",
   "execution_count": 147,
   "metadata": {},
   "outputs": [
    {
     "data": {
      "text/html": [
       "<div>\n",
       "<style scoped>\n",
       "    .dataframe tbody tr th:only-of-type {\n",
       "        vertical-align: middle;\n",
       "    }\n",
       "\n",
       "    .dataframe tbody tr th {\n",
       "        vertical-align: top;\n",
       "    }\n",
       "\n",
       "    .dataframe thead th {\n",
       "        text-align: right;\n",
       "    }\n",
       "</style>\n",
       "<table border=\"1\" class=\"dataframe\">\n",
       "  <thead>\n",
       "    <tr style=\"text-align: right;\">\n",
       "      <th></th>\n",
       "      <th>Rk</th>\n",
       "      <th>Player</th>\n",
       "      <th>Tm</th>\n",
       "      <th>Age</th>\n",
       "      <th>Pos</th>\n",
       "      <th>G</th>\n",
       "      <th>GS</th>\n",
       "      <th>Att</th>\n",
       "      <th>Yds</th>\n",
       "      <th>TD</th>\n",
       "      <th>1D</th>\n",
       "      <th>Lng</th>\n",
       "      <th>Y/A</th>\n",
       "      <th>Y/G</th>\n",
       "      <th>Fmb</th>\n",
       "      <th>TD/5</th>\n",
       "    </tr>\n",
       "  </thead>\n",
       "  <tbody>\n",
       "    <tr>\n",
       "      <th>0</th>\n",
       "      <td>1</td>\n",
       "      <td>Derrick Henry *\\HenrDe00</td>\n",
       "      <td>TEN</td>\n",
       "      <td>26</td>\n",
       "      <td>RB</td>\n",
       "      <td>16</td>\n",
       "      <td>16</td>\n",
       "      <td>378</td>\n",
       "      <td>2027</td>\n",
       "      <td>17</td>\n",
       "      <td>98</td>\n",
       "      <td>94</td>\n",
       "      <td>5.4</td>\n",
       "      <td>126.7</td>\n",
       "      <td>3</td>\n",
       "      <td>&gt;=5</td>\n",
       "    </tr>\n",
       "    <tr>\n",
       "      <th>1</th>\n",
       "      <td>2</td>\n",
       "      <td>Dalvin Cook*\\CookDa01</td>\n",
       "      <td>MIN</td>\n",
       "      <td>25</td>\n",
       "      <td>RB</td>\n",
       "      <td>14</td>\n",
       "      <td>14</td>\n",
       "      <td>312</td>\n",
       "      <td>1557</td>\n",
       "      <td>16</td>\n",
       "      <td>91</td>\n",
       "      <td>70</td>\n",
       "      <td>5.0</td>\n",
       "      <td>111.2</td>\n",
       "      <td>5</td>\n",
       "      <td>&gt;=5</td>\n",
       "    </tr>\n",
       "    <tr>\n",
       "      <th>2</th>\n",
       "      <td>3</td>\n",
       "      <td>Josh Jacobs*\\JacoJo01</td>\n",
       "      <td>LVR</td>\n",
       "      <td>22</td>\n",
       "      <td>RB</td>\n",
       "      <td>15</td>\n",
       "      <td>15</td>\n",
       "      <td>273</td>\n",
       "      <td>1065</td>\n",
       "      <td>12</td>\n",
       "      <td>61</td>\n",
       "      <td>28</td>\n",
       "      <td>3.9</td>\n",
       "      <td>71.0</td>\n",
       "      <td>2</td>\n",
       "      <td>&gt;=5</td>\n",
       "    </tr>\n",
       "    <tr>\n",
       "      <th>3</th>\n",
       "      <td>4</td>\n",
       "      <td>David Montgomery\\MontDa01</td>\n",
       "      <td>CHI</td>\n",
       "      <td>23</td>\n",
       "      <td>RB</td>\n",
       "      <td>15</td>\n",
       "      <td>14</td>\n",
       "      <td>247</td>\n",
       "      <td>1070</td>\n",
       "      <td>8</td>\n",
       "      <td>59</td>\n",
       "      <td>80</td>\n",
       "      <td>4.3</td>\n",
       "      <td>71.3</td>\n",
       "      <td>1</td>\n",
       "      <td>&gt;=5</td>\n",
       "    </tr>\n",
       "    <tr>\n",
       "      <th>4</th>\n",
       "      <td>5</td>\n",
       "      <td>Ezekiel Elliott\\ElliEz00</td>\n",
       "      <td>DAL</td>\n",
       "      <td>25</td>\n",
       "      <td>RB</td>\n",
       "      <td>15</td>\n",
       "      <td>15</td>\n",
       "      <td>244</td>\n",
       "      <td>979</td>\n",
       "      <td>6</td>\n",
       "      <td>62</td>\n",
       "      <td>31</td>\n",
       "      <td>4.0</td>\n",
       "      <td>65.3</td>\n",
       "      <td>6</td>\n",
       "      <td>&gt;=5</td>\n",
       "    </tr>\n",
       "    <tr>\n",
       "      <th>...</th>\n",
       "      <td>...</td>\n",
       "      <td>...</td>\n",
       "      <td>...</td>\n",
       "      <td>...</td>\n",
       "      <td>...</td>\n",
       "      <td>...</td>\n",
       "      <td>...</td>\n",
       "      <td>...</td>\n",
       "      <td>...</td>\n",
       "      <td>...</td>\n",
       "      <td>...</td>\n",
       "      <td>...</td>\n",
       "      <td>...</td>\n",
       "      <td>...</td>\n",
       "      <td>...</td>\n",
       "      <td>...</td>\n",
       "    </tr>\n",
       "    <tr>\n",
       "      <th>367</th>\n",
       "      <td>368</td>\n",
       "      <td>Jonathan Williams\\WillJo07</td>\n",
       "      <td>DET</td>\n",
       "      <td>26</td>\n",
       "      <td>NaN</td>\n",
       "      <td>5</td>\n",
       "      <td>0</td>\n",
       "      <td>1</td>\n",
       "      <td>5</td>\n",
       "      <td>0</td>\n",
       "      <td>0</td>\n",
       "      <td>5</td>\n",
       "      <td>5.0</td>\n",
       "      <td>1.0</td>\n",
       "      <td>1</td>\n",
       "      <td>&lt;5</td>\n",
       "    </tr>\n",
       "    <tr>\n",
       "      <th>368</th>\n",
       "      <td>369</td>\n",
       "      <td>Mike Williams\\WillMi07</td>\n",
       "      <td>LAC</td>\n",
       "      <td>26</td>\n",
       "      <td>WR</td>\n",
       "      <td>15</td>\n",
       "      <td>11</td>\n",
       "      <td>1</td>\n",
       "      <td>1</td>\n",
       "      <td>0</td>\n",
       "      <td>0</td>\n",
       "      <td>1</td>\n",
       "      <td>1.0</td>\n",
       "      <td>0.1</td>\n",
       "      <td>0</td>\n",
       "      <td>&lt;5</td>\n",
       "    </tr>\n",
       "    <tr>\n",
       "      <th>369</th>\n",
       "      <td>370</td>\n",
       "      <td>Javon Wims\\WimsJa00</td>\n",
       "      <td>CHI</td>\n",
       "      <td>26</td>\n",
       "      <td>wr</td>\n",
       "      <td>13</td>\n",
       "      <td>1</td>\n",
       "      <td>1</td>\n",
       "      <td>2</td>\n",
       "      <td>0</td>\n",
       "      <td>0</td>\n",
       "      <td>2</td>\n",
       "      <td>2.0</td>\n",
       "      <td>0.2</td>\n",
       "      <td>0</td>\n",
       "      <td>&lt;5</td>\n",
       "    </tr>\n",
       "    <tr>\n",
       "      <th>370</th>\n",
       "      <td>371</td>\n",
       "      <td>Olamide Zaccheaus\\ZaccOl01</td>\n",
       "      <td>ATL</td>\n",
       "      <td>23</td>\n",
       "      <td>wr</td>\n",
       "      <td>11</td>\n",
       "      <td>2</td>\n",
       "      <td>1</td>\n",
       "      <td>0</td>\n",
       "      <td>0</td>\n",
       "      <td>0</td>\n",
       "      <td>0</td>\n",
       "      <td>0.0</td>\n",
       "      <td>0.0</td>\n",
       "      <td>0</td>\n",
       "      <td>&lt;5</td>\n",
       "    </tr>\n",
       "    <tr>\n",
       "      <th>371</th>\n",
       "      <td>372</td>\n",
       "      <td>Brandon Zylstra\\ZylsBr00</td>\n",
       "      <td>CAR</td>\n",
       "      <td>27</td>\n",
       "      <td>wr</td>\n",
       "      <td>16</td>\n",
       "      <td>2</td>\n",
       "      <td>1</td>\n",
       "      <td>1</td>\n",
       "      <td>0</td>\n",
       "      <td>0</td>\n",
       "      <td>1</td>\n",
       "      <td>1.0</td>\n",
       "      <td>0.1</td>\n",
       "      <td>0</td>\n",
       "      <td>&lt;5</td>\n",
       "    </tr>\n",
       "  </tbody>\n",
       "</table>\n",
       "<p>372 rows × 16 columns</p>\n",
       "</div>"
      ],
      "text/plain": [
       "      Rk                      Player   Tm  Age  Pos   G  GS  Att   Yds  TD  \\\n",
       "0      1    Derrick Henry *\\HenrDe00  TEN   26   RB  16  16  378  2027  17   \n",
       "1      2       Dalvin Cook*\\CookDa01  MIN   25   RB  14  14  312  1557  16   \n",
       "2      3       Josh Jacobs*\\JacoJo01  LVR   22   RB  15  15  273  1065  12   \n",
       "3      4   David Montgomery\\MontDa01  CHI   23   RB  15  14  247  1070   8   \n",
       "4      5    Ezekiel Elliott\\ElliEz00  DAL   25   RB  15  15  244   979   6   \n",
       "..   ...                         ...  ...  ...  ...  ..  ..  ...   ...  ..   \n",
       "367  368  Jonathan Williams\\WillJo07  DET   26  NaN   5   0    1     5   0   \n",
       "368  369      Mike Williams\\WillMi07  LAC   26   WR  15  11    1     1   0   \n",
       "369  370         Javon Wims\\WimsJa00  CHI   26   wr  13   1    1     2   0   \n",
       "370  371  Olamide Zaccheaus\\ZaccOl01  ATL   23   wr  11   2    1     0   0   \n",
       "371  372    Brandon Zylstra\\ZylsBr00  CAR   27   wr  16   2    1     1   0   \n",
       "\n",
       "     1D  Lng  Y/A    Y/G  Fmb TD/5  \n",
       "0    98   94  5.4  126.7    3  >=5  \n",
       "1    91   70  5.0  111.2    5  >=5  \n",
       "2    61   28  3.9   71.0    2  >=5  \n",
       "3    59   80  4.3   71.3    1  >=5  \n",
       "4    62   31  4.0   65.3    6  >=5  \n",
       "..   ..  ...  ...    ...  ...  ...  \n",
       "367   0    5  5.0    1.0    1   <5  \n",
       "368   0    1  1.0    0.1    0   <5  \n",
       "369   0    2  2.0    0.2    0   <5  \n",
       "370   0    0  0.0    0.0    0   <5  \n",
       "371   0    1  1.0    0.1    0   <5  \n",
       "\n",
       "[372 rows x 16 columns]"
      ]
     },
     "execution_count": 147,
     "metadata": {},
     "output_type": "execute_result"
    }
   ],
   "source": [
    "conditions = [\n",
    "    (nfl['TD'] < 5),\n",
    "    (nfl['TD'] >= 5)\n",
    "]\n",
    "\n",
    "values = ['<5', '>=5']\n",
    "\n",
    "nfl['TD/5'] = np.select(conditions, values)\n",
    "\n",
    "nfl"
   ]
  },
  {
   "cell_type": "code",
   "execution_count": 148,
   "metadata": {},
   "outputs": [
    {
     "data": {
      "text/html": [
       "<div>\n",
       "<style scoped>\n",
       "    .dataframe tbody tr th:only-of-type {\n",
       "        vertical-align: middle;\n",
       "    }\n",
       "\n",
       "    .dataframe tbody tr th {\n",
       "        vertical-align: top;\n",
       "    }\n",
       "\n",
       "    .dataframe thead th {\n",
       "        text-align: right;\n",
       "    }\n",
       "</style>\n",
       "<table border=\"1\" class=\"dataframe\">\n",
       "  <thead>\n",
       "    <tr style=\"text-align: right;\">\n",
       "      <th></th>\n",
       "      <th>Rk</th>\n",
       "      <th>Player</th>\n",
       "      <th>Tm</th>\n",
       "      <th>Age</th>\n",
       "      <th>Pos</th>\n",
       "      <th>G</th>\n",
       "      <th>GS</th>\n",
       "      <th>Att</th>\n",
       "      <th>Yds</th>\n",
       "      <th>TD</th>\n",
       "      <th>1D</th>\n",
       "      <th>Lng</th>\n",
       "      <th>Y/A</th>\n",
       "      <th>Y/G</th>\n",
       "      <th>Fmb</th>\n",
       "      <th>TD/5</th>\n",
       "    </tr>\n",
       "  </thead>\n",
       "  <tbody>\n",
       "    <tr>\n",
       "      <th>0</th>\n",
       "      <td>1</td>\n",
       "      <td>Derrick Henry *\\HenrDe00</td>\n",
       "      <td>TEN</td>\n",
       "      <td>26</td>\n",
       "      <td>RB</td>\n",
       "      <td>16</td>\n",
       "      <td>16</td>\n",
       "      <td>378</td>\n",
       "      <td>2027</td>\n",
       "      <td>17</td>\n",
       "      <td>98</td>\n",
       "      <td>94</td>\n",
       "      <td>5.4</td>\n",
       "      <td>126.7</td>\n",
       "      <td>3</td>\n",
       "      <td>&gt;=5</td>\n",
       "    </tr>\n",
       "    <tr>\n",
       "      <th>1</th>\n",
       "      <td>2</td>\n",
       "      <td>Dalvin Cook*\\CookDa01</td>\n",
       "      <td>MIN</td>\n",
       "      <td>25</td>\n",
       "      <td>RB</td>\n",
       "      <td>14</td>\n",
       "      <td>14</td>\n",
       "      <td>312</td>\n",
       "      <td>1557</td>\n",
       "      <td>16</td>\n",
       "      <td>91</td>\n",
       "      <td>70</td>\n",
       "      <td>5.0</td>\n",
       "      <td>111.2</td>\n",
       "      <td>5</td>\n",
       "      <td>&gt;=5</td>\n",
       "    </tr>\n",
       "    <tr>\n",
       "      <th>2</th>\n",
       "      <td>3</td>\n",
       "      <td>Josh Jacobs*\\JacoJo01</td>\n",
       "      <td>LVR</td>\n",
       "      <td>22</td>\n",
       "      <td>RB</td>\n",
       "      <td>15</td>\n",
       "      <td>15</td>\n",
       "      <td>273</td>\n",
       "      <td>1065</td>\n",
       "      <td>12</td>\n",
       "      <td>61</td>\n",
       "      <td>28</td>\n",
       "      <td>3.9</td>\n",
       "      <td>71.0</td>\n",
       "      <td>2</td>\n",
       "      <td>&gt;=5</td>\n",
       "    </tr>\n",
       "    <tr>\n",
       "      <th>3</th>\n",
       "      <td>4</td>\n",
       "      <td>David Montgomery\\MontDa01</td>\n",
       "      <td>CHI</td>\n",
       "      <td>23</td>\n",
       "      <td>RB</td>\n",
       "      <td>15</td>\n",
       "      <td>14</td>\n",
       "      <td>247</td>\n",
       "      <td>1070</td>\n",
       "      <td>8</td>\n",
       "      <td>59</td>\n",
       "      <td>80</td>\n",
       "      <td>4.3</td>\n",
       "      <td>71.3</td>\n",
       "      <td>1</td>\n",
       "      <td>&gt;=5</td>\n",
       "    </tr>\n",
       "    <tr>\n",
       "      <th>4</th>\n",
       "      <td>5</td>\n",
       "      <td>Ezekiel Elliott\\ElliEz00</td>\n",
       "      <td>DAL</td>\n",
       "      <td>25</td>\n",
       "      <td>RB</td>\n",
       "      <td>15</td>\n",
       "      <td>15</td>\n",
       "      <td>244</td>\n",
       "      <td>979</td>\n",
       "      <td>6</td>\n",
       "      <td>62</td>\n",
       "      <td>31</td>\n",
       "      <td>4.0</td>\n",
       "      <td>65.3</td>\n",
       "      <td>6</td>\n",
       "      <td>&gt;=5</td>\n",
       "    </tr>\n",
       "  </tbody>\n",
       "</table>\n",
       "</div>"
      ],
      "text/plain": [
       "   Rk                     Player   Tm  Age Pos   G  GS  Att   Yds  TD  1D  \\\n",
       "0   1   Derrick Henry *\\HenrDe00  TEN   26  RB  16  16  378  2027  17  98   \n",
       "1   2      Dalvin Cook*\\CookDa01  MIN   25  RB  14  14  312  1557  16  91   \n",
       "2   3      Josh Jacobs*\\JacoJo01  LVR   22  RB  15  15  273  1065  12  61   \n",
       "3   4  David Montgomery\\MontDa01  CHI   23  RB  15  14  247  1070   8  59   \n",
       "4   5   Ezekiel Elliott\\ElliEz00  DAL   25  RB  15  15  244   979   6  62   \n",
       "\n",
       "   Lng  Y/A    Y/G  Fmb TD/5  \n",
       "0   94  5.4  126.7    3  >=5  \n",
       "1   70  5.0  111.2    5  >=5  \n",
       "2   28  3.9   71.0    2  >=5  \n",
       "3   80  4.3   71.3    1  >=5  \n",
       "4   31  4.0   65.3    6  >=5  "
      ]
     },
     "execution_count": 148,
     "metadata": {},
     "output_type": "execute_result"
    }
   ],
   "source": [
    "rb6 = nfl[((nfl[\"Pos\"] == \"RB\") | (nfl[\"Pos\"] == \"FB\")) & (nfl[\"G\"] >= 6)]\n",
    "\n",
    "rb6.head()"
   ]
  },
  {
   "cell_type": "markdown",
   "metadata": {
    "id": "b0NGUESFSnKG"
   },
   "source": [
    "## Q2(a)\n"
   ]
  },
  {
   "cell_type": "code",
   "execution_count": 130,
   "metadata": {
    "id": "H_FtRBmwSpW_"
   },
   "outputs": [
    {
     "name": "stdout",
     "output_type": "stream",
     "text": [
      "Sample size of players that are running back or full back with 6 or more games: 32\n"
     ]
    }
   ],
   "source": [
    "nflRB6NumSample = rb6['Player'].count()\n",
    "print(\"Sample size of players that are running back or full back with 6 or more games:\", nflRB6NumSample)"
   ]
  },
  {
   "cell_type": "markdown",
   "metadata": {},
   "source": [
    "## Q2(b)"
   ]
  },
  {
   "cell_type": "code",
   "execution_count": 136,
   "metadata": {},
   "outputs": [
    {
     "name": "stdout",
     "output_type": "stream",
     "text": [
      "TD Mean: 6.969, TD Median; 6.000, TD Mode: 6.000\n",
      "Fmb Mean: 1.750, Fmb Median; 1.000, Fmb Mode: 1.000\n"
     ]
    }
   ],
   "source": [
    "nflTDMean = rb6['TD'].mean()\n",
    "nflTDMedian = rb6['TD'].median()\n",
    "nflTDMode = rb6['TD'].mode()\n",
    "nflFmbMean = rb6['Fmb'].mean()\n",
    "nflFmbMedian = rb6['Fmb'].median()\n",
    "nflFmbMode = rb6['Fmb'].mode()\n",
    "\n",
    "print(\"TD Mean: %.3f, TD Median; %.3f, TD Mode: %.3f\" % (nflTDMean, nflTDMedian, nflTDMode))\n",
    "print(\"Fmb Mean: %.3f, Fmb Median: %.3f, Fmb Mode: %.3f\" % (nflFmbMean, nflFmbMedian, nflFmbMode))"
   ]
  },
  {
   "cell_type": "markdown",
   "metadata": {},
   "source": [
    "## Q2(c)"
   ]
  },
  {
   "cell_type": "code",
   "execution_count": 142,
   "metadata": {},
   "outputs": [
    {
     "name": "stdout",
     "output_type": "stream",
     "text": [
      "TD First Quartile: 3.750, TD Third Quartile: 9.250, TD 37th Percentile: 6.000\n",
      "Fmb First Quartile: 1.000, Fmb Third Quartile: 2.000, Fmb 37th Percentile: 1.000\n"
     ]
    }
   ],
   "source": [
    "nflTD1stQuart = rb6['TD'].quantile(0.25)\n",
    "nflTD3rdQuart = rb6['TD'].quantile(0.75)\n",
    "nflTD37thPercent = rb6['TD'].quantile(0.37)\n",
    "nflFmb1stQuart = rb6['Fmb'].quantile(0.25)\n",
    "nflFmb3rdQuart = rb6['Fmb'].quantile(0.75)\n",
    "nflFmb37thPercent = rb6['Fmb'].quantile(0.37)\n",
    "\n",
    "print(\"TD First Quartile: %.3f, TD Third Quartile: %.3f, TD 37th Percentile: %.3f\" % (nflTD1stQuart, nflTD3rdQuart, nflTD37thPercent) )\n",
    "print(\"Fmb First Quartile: %.3f, Fmb Third Quartile: %.3f, Fmb 37th Percentile: %.3f\" % (nflFmb1stQuart, nflFmb3rdQuart, nflFmb37thPercent) )"
   ]
  },
  {
   "cell_type": "markdown",
   "metadata": {},
   "source": [
    "## Q2(d)"
   ]
  },
  {
   "cell_type": "code",
   "execution_count": 143,
   "metadata": {},
   "outputs": [
    {
     "data": {
      "text/html": [
       "<div>\n",
       "<style scoped>\n",
       "    .dataframe tbody tr th:only-of-type {\n",
       "        vertical-align: middle;\n",
       "    }\n",
       "\n",
       "    .dataframe tbody tr th {\n",
       "        vertical-align: top;\n",
       "    }\n",
       "\n",
       "    .dataframe thead th {\n",
       "        text-align: right;\n",
       "    }\n",
       "</style>\n",
       "<table border=\"1\" class=\"dataframe\">\n",
       "  <thead>\n",
       "    <tr style=\"text-align: right;\">\n",
       "      <th></th>\n",
       "      <th></th>\n",
       "      <th>Min</th>\n",
       "      <th>1st Quartile</th>\n",
       "      <th>Median</th>\n",
       "      <th>3rd Quartile</th>\n",
       "      <th>Max</th>\n",
       "    </tr>\n",
       "  </thead>\n",
       "  <tbody>\n",
       "    <tr>\n",
       "      <th>0</th>\n",
       "      <td>Y/G</td>\n",
       "      <td>-0.1</td>\n",
       "      <td>43.35</td>\n",
       "      <td>59.7</td>\n",
       "      <td>71.075</td>\n",
       "      <td>126.7</td>\n",
       "    </tr>\n",
       "    <tr>\n",
       "      <th>1</th>\n",
       "      <td>Lng</td>\n",
       "      <td>-1.0</td>\n",
       "      <td>28.75</td>\n",
       "      <td>44.0</td>\n",
       "      <td>62.750</td>\n",
       "      <td>98.0</td>\n",
       "    </tr>\n",
       "  </tbody>\n",
       "</table>\n",
       "</div>"
      ],
      "text/plain": [
       "        Min  1st Quartile  Median  3rd Quartile    Max\n",
       "0  Y/G -0.1         43.35    59.7        71.075  126.7\n",
       "1  Lng -1.0         28.75    44.0        62.750   98.0"
      ]
     },
     "execution_count": 143,
     "metadata": {},
     "output_type": "execute_result"
    }
   ],
   "source": [
    "nflYGMin = rb6['Y/G'].min()\n",
    "nflYG1stQuart = rb6['Y/G'].quantile(0.25)\n",
    "nflYGMedian = rb6['Y/G'].median()\n",
    "nflYG3rdQuart = rb6['Y/G'].quantile(0.75)\n",
    "nflYGMax = rb6['Y/G'].max()\n",
    "\n",
    "nflLngMin = rb6['Lng'].min()\n",
    "nflLng1stQuart = rb6['Lng'].quantile(0.25)\n",
    "nflLngMedian = rb6['Lng'].median()\n",
    "nflLng3rdQuart = rb6['Lng'].quantile(0.75)\n",
    "nflLngMax = rb6['Lng'].max()\n",
    "\n",
    "summary = {\n",
    "    '': ['Y/G', 'Lng'],\n",
    "    'Min': [nflYGMin, nflLngMin],\n",
    "    \"1st Quartile\": [nflYG1stQuart, nflLng1stQuart],\n",
    "    \"Median\": [nflYGMedian, nflLngMedian],\n",
    "    \"3rd Quartile\": [nflYG3rdQuart, nflLng3rdQuart],\n",
    "    \"Max\": [nflYGMax, nflLngMax]\n",
    "}\n",
    "\n",
    "sum5num = pd.DataFrame(data=summary)\n",
    "sum5num"
   ]
  },
  {
   "cell_type": "markdown",
   "metadata": {},
   "source": [
    "## Q2(e)"
   ]
  },
  {
   "cell_type": "code",
   "execution_count": 150,
   "metadata": {},
   "outputs": [
    {
     "data": {
      "text/plain": [
       "Text(0.5, 1.0, 'Boxplot of Rushing Yards Based on Touchdowns')"
      ]
     },
     "execution_count": 150,
     "metadata": {},
     "output_type": "execute_result"
    },
    {
     "data": {
      "image/png": "[encoded data removed]",
      "text/plain": [
       "<Figure size 432x288 with 1 Axes>"
      ]
     },
     "metadata": {
      "needs_background": "light"
     },
     "output_type": "display_data"
    }
   ],
   "source": [
    "sb.boxplot(x='TD/5',\n",
    "          y='Yds',\n",
    "          hue='TD/5',\n",
    "          data=rb6[['Yds', 'TD/5']])\n",
    "plt.title(\"Boxplot of Rushing Yards Based on Touchdowns\")"
   ]
  },
  {
   "cell_type": "markdown",
   "metadata": {},
   "source": [
    "## Q2(f)"
   ]
  },
  {
   "cell_type": "code",
   "execution_count": 151,
   "metadata": {},
   "outputs": [
    {
     "data": {
      "text/plain": [
       "Text(0.5, 1.0, 'Rushing Yards vs. Fumbles')"
      ]
     },
     "execution_count": 151,
     "metadata": {},
     "output_type": "execute_result"
    },
    {
     "data": {
      "image/png": "[encoded data removed]",
      "text/plain": [
       "<Figure size 432x288 with 1 Axes>"
      ]
     },
     "metadata": {
      "needs_background": "light"
     },
     "output_type": "display_data"
    }
   ],
   "source": [
    "rb6.plot.scatter(x=\"Yds\", y=\"Fmb\")\n",
    "plt.title(\"Rushing Yards vs. Fumbles\")"
   ]
  },
  {
   "cell_type": "markdown",
   "metadata": {},
   "source": [
    "## Q2(g)"
   ]
  },
  {
   "cell_type": "code",
   "execution_count": 152,
   "metadata": {},
   "outputs": [
    {
     "data": {
      "text/plain": [
       "Text(0.5, 1.0, 'First Downs vs. Rushing Yards per Attempt')"
      ]
     },
     "execution_count": 152,
     "metadata": {},
     "output_type": "execute_result"
    },
    {
     "data": {
      "image/png": "[encoded data removed]",
      "text/plain": [
       "<Figure size 432x288 with 1 Axes>"
      ]
     },
     "metadata": {
      "needs_background": "light"
     },
     "output_type": "display_data"
    }
   ],
   "source": [
    "rb6.plot.scatter(x=\"1D\", y=\"Y/A\")\n",
    "plt.title(\"First Downs vs. Rushing Yards per Attempt\")"
   ]
  }
 ],
 "metadata": {
  "colab": {
   "collapsed_sections": [],
   "name": "P1-Python-template.ipynb",
   "provenance": [],
   "toc_visible": true
  },
  "kernelspec": {
   "display_name": "Python 3",
   "language": "python",
   "name": "python3"
  },
  "language_info": {
   "codemirror_mode": {
    "name": "ipython",
    "version": 3
   },
   "file_extension": ".py",
   "mimetype": "text/x-python",
   "name": "python",
   "nbconvert_exporter": "python",
   "pygments_lexer": "ipython3",
   "version": "3.8.5"
  }
 },
 "nbformat": 4,
 "nbformat_minor": 1
}
