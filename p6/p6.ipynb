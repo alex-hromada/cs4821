{
 "cells": [
  {
   "cell_type": "markdown",
   "source": "# P6\n\n## Q1\nP5delta\n\nGary Watson\n\nAlex Hromada\n\nEthan Matzdorf\n\nCS4821",
   "metadata": {
    "tags": [],
    "cell_id": "00000-9342989c-e91d-45c9-8edb-47036b19ad18",
    "deepnote_cell_type": "markdown"
   }
  },
  {
   "cell_type": "code",
   "metadata": {
    "tags": [],
    "cell_id": "00000-56e1f721-3aee-4f3d-93b3-48c2ef032f1c",
    "deepnote_to_be_reexecuted": false,
    "source_hash": "7014e495",
    "execution_millis": 2227,
    "execution_start": 1619486166997,
    "deepnote_cell_type": "code"
   },
   "source": "from os import listdir\nfrom os.path import isfile, join\nimport nltk\nimport string\nfrom itertools import chain\nimport pandas as pd\nimport numpy as np\nfrom mlxtend.preprocessing import TransactionEncoder \nfrom mlxtend.frequent_patterns import apriori\nfrom mlxtend.frequent_patterns import association_rules\nimport matplotlib.pyplot as plt\nfrom matplotlib import cm\nimport math \nimport seaborn as sb\n%matplotlib inline\n",
   "execution_count": null,
   "outputs": []
  },
  {
   "cell_type": "markdown",
   "source": "## Q4",
   "metadata": {
    "tags": [],
    "cell_id": "00002-aad02400-83eb-4102-95a4-d4fa6fcd39ef",
    "deepnote_cell_type": "markdown"
   }
  },
  {
   "cell_type": "code",
   "metadata": {
    "tags": [],
    "cell_id": "00002-92f54788-910c-470c-9526-b1c997d3e8b9",
    "deepnote_to_be_reexecuted": false,
    "source_hash": "4dae18b8",
    "execution_millis": 19,
    "execution_start": 1619486169244,
    "deepnote_cell_type": "code"
   },
   "source": "item_data = [['M', 'O', 'N', 'K', 'E', 'Y'],\n             ['D', 'O', 'N', 'K', 'E', 'Y'],\n             ['M', 'A', 'K', 'E'],\n             ['M', 'U', 'C', 'K', 'Y'],\n             ['C', 'O', 'O', 'K', 'I', 'E']\n            ]\n\nte = TransactionEncoder()\ntedata = te.fit(item_data).transform(item_data)\nitemdf = pd.DataFrame(tedata, columns=te.columns_)\nitemdf",
   "execution_count": null,
   "outputs": [
    {
     "output_type": "execute_result",
     "execution_count": 2,
     "data": {
      "application/vnd.deepnote.dataframe.v2+json": {
       "row_count": 5,
       "column_count": 11,
       "columns": [
        {
         "name": "A",
         "dtype": "bool",
         "stats": {
          "unique_count": 2,
          "nan_count": 0,
          "categories": [
           {
            "name": "False",
            "count": 4
           },
           {
            "name": "True",
            "count": 1
           }
          ]
         }
        },
        {
         "name": "C",
         "dtype": "bool",
         "stats": {
          "unique_count": 2,
          "nan_count": 0,
          "categories": [
           {
            "name": "False",
            "count": 3
           },
           {
            "name": "True",
            "count": 2
           }
          ]
         }
        },
        {
         "name": "D",
         "dtype": "bool",
         "stats": {
          "unique_count": 2,
          "nan_count": 0,
          "categories": [
           {
            "name": "False",
            "count": 4
           },
           {
            "name": "True",
            "count": 1
           }
          ]
         }
        },
        {
         "name": "E",
         "dtype": "bool",
         "stats": {
          "unique_count": 2,
          "nan_count": 0,
          "categories": [
           {
            "name": "True",
            "count": 4
           },
           {
            "name": "False",
            "count": 1
           }
          ]
         }
        },
        {
         "name": "I",
         "dtype": "bool",
         "stats": {
          "unique_count": 2,
          "nan_count": 0,
          "categories": [
           {
            "name": "False",
            "count": 4
           },
           {
            "name": "True",
            "count": 1
           }
          ]
         }
        },
        {
         "name": "K",
         "dtype": "bool",
         "stats": {
          "unique_count": 1,
          "nan_count": 0,
          "categories": [
           {
            "name": "True",
            "count": 5
           }
          ]
         }
        },
        {
         "name": "M",
         "dtype": "bool",
         "stats": {
          "unique_count": 2,
          "nan_count": 0,
          "categories": [
           {
            "name": "True",
            "count": 3
           },
           {
            "name": "False",
            "count": 2
           }
          ]
         }
        },
        {
         "name": "N",
         "dtype": "bool",
         "stats": {
          "unique_count": 2,
          "nan_count": 0,
          "categories": [
           {
            "name": "False",
            "count": 3
           },
           {
            "name": "True",
            "count": 2
           }
          ]
         }
        },
        {
         "name": "O",
         "dtype": "bool",
         "stats": {
          "unique_count": 2,
          "nan_count": 0,
          "categories": [
           {
            "name": "True",
            "count": 3
           },
           {
            "name": "False",
            "count": 2
           }
          ]
         }
        },
        {
         "name": "U",
         "dtype": "bool",
         "stats": {
          "unique_count": 2,
          "nan_count": 0,
          "categories": [
           {
            "name": "False",
            "count": 4
           },
           {
            "name": "True",
            "count": 1
           }
          ]
         }
        },
        {
         "name": "Y",
         "dtype": "bool",
         "stats": {
          "unique_count": 2,
          "nan_count": 0,
          "categories": [
           {
            "name": "True",
            "count": 3
           },
           {
            "name": "False",
            "count": 2
           }
          ]
         }
        },
        {
         "name": "_deepnote_index_column",
         "dtype": "int64"
        }
       ],
       "rows_top": [
        {
         "A": false,
         "C": false,
         "D": false,
         "E": true,
         "I": false,
         "K": true,
         "M": true,
         "N": true,
         "O": true,
         "U": false,
         "Y": true,
         "_deepnote_index_column": 0
        },
        {
         "A": false,
         "C": false,
         "D": true,
         "E": true,
         "I": false,
         "K": true,
         "M": false,
         "N": true,
         "O": true,
         "U": false,
         "Y": true,
         "_deepnote_index_column": 1
        },
        {
         "A": true,
         "C": false,
         "D": false,
         "E": true,
         "I": false,
         "K": true,
         "M": true,
         "N": false,
         "O": false,
         "U": false,
         "Y": false,
         "_deepnote_index_column": 2
        },
        {
         "A": false,
         "C": true,
         "D": false,
         "E": false,
         "I": false,
         "K": true,
         "M": true,
         "N": false,
         "O": false,
         "U": true,
         "Y": true,
         "_deepnote_index_column": 3
        },
        {
         "A": false,
         "C": true,
         "D": false,
         "E": true,
         "I": true,
         "K": true,
         "M": false,
         "N": false,
         "O": true,
         "U": false,
         "Y": false,
         "_deepnote_index_column": 4
        }
       ],
       "rows_bottom": null
      },
      "text/plain": "       A      C      D      E      I     K      M      N      O      U      Y\n0  False  False  False   True  False  True   True   True   True  False   True\n1  False  False   True   True  False  True  False   True   True  False   True\n2   True  False  False   True  False  True   True  False  False  False  False\n3  False   True  False  False  False  True   True  False  False   True   True\n4  False   True  False   True   True  True  False  False   True  False  False",
      "text/html": "<div>\n<style scoped>\n    .dataframe tbody tr th:only-of-type {\n        vertical-align: middle;\n    }\n\n    .dataframe tbody tr th {\n        vertical-align: top;\n    }\n\n    .dataframe thead th {\n        text-align: right;\n    }\n</style>\n<table border=\"1\" class=\"dataframe\">\n  <thead>\n    <tr style=\"text-align: right;\">\n      <th></th>\n      <th>A</th>\n      <th>C</th>\n      <th>D</th>\n      <th>E</th>\n      <th>I</th>\n      <th>K</th>\n      <th>M</th>\n      <th>N</th>\n      <th>O</th>\n      <th>U</th>\n      <th>Y</th>\n    </tr>\n  </thead>\n  <tbody>\n    <tr>\n      <th>0</th>\n      <td>False</td>\n      <td>False</td>\n      <td>False</td>\n      <td>True</td>\n      <td>False</td>\n      <td>True</td>\n      <td>True</td>\n      <td>True</td>\n      <td>True</td>\n      <td>False</td>\n      <td>True</td>\n    </tr>\n    <tr>\n      <th>1</th>\n      <td>False</td>\n      <td>False</td>\n      <td>True</td>\n      <td>True</td>\n      <td>False</td>\n      <td>True</td>\n      <td>False</td>\n      <td>True</td>\n      <td>True</td>\n      <td>False</td>\n      <td>True</td>\n    </tr>\n    <tr>\n      <th>2</th>\n      <td>True</td>\n      <td>False</td>\n      <td>False</td>\n      <td>True</td>\n      <td>False</td>\n      <td>True</td>\n      <td>True</td>\n      <td>False</td>\n      <td>False</td>\n      <td>False</td>\n      <td>False</td>\n    </tr>\n    <tr>\n      <th>3</th>\n      <td>False</td>\n      <td>True</td>\n      <td>False</td>\n      <td>False</td>\n      <td>False</td>\n      <td>True</td>\n      <td>True</td>\n      <td>False</td>\n      <td>False</td>\n      <td>True</td>\n      <td>True</td>\n    </tr>\n    <tr>\n      <th>4</th>\n      <td>False</td>\n      <td>True</td>\n      <td>False</td>\n      <td>True</td>\n      <td>True</td>\n      <td>True</td>\n      <td>False</td>\n      <td>False</td>\n      <td>True</td>\n      <td>False</td>\n      <td>False</td>\n    </tr>\n  </tbody>\n</table>\n</div>"
     },
     "metadata": {}
    }
   ]
  },
  {
   "cell_type": "code",
   "metadata": {
    "tags": [],
    "cell_id": "00004-66d4e8ee-f6bc-4988-ab78-c6515028aae7",
    "deepnote_to_be_reexecuted": false,
    "source_hash": "d5cf625b",
    "execution_millis": 7,
    "execution_start": 1619486169264,
    "deepnote_output_heights": [
     232.25
    ],
    "deepnote_cell_type": "code"
   },
   "source": "sup = itemdf.sum()\nsup",
   "execution_count": null,
   "outputs": [
    {
     "output_type": "execute_result",
     "execution_count": 3,
     "data": {
      "text/plain": "A    1\nC    2\nD    1\nE    4\nI    1\nK    5\nM    3\nN    2\nO    3\nU    1\nY    3\ndtype: int64"
     },
     "metadata": {}
    }
   ]
  },
  {
   "cell_type": "code",
   "metadata": {
    "tags": [],
    "cell_id": "00005-6896f9a4-09a5-42a2-91a6-0f696265a559",
    "deepnote_to_be_reexecuted": false,
    "source_hash": "a45cea74",
    "execution_millis": 173,
    "execution_start": 1619486169268,
    "deepnote_output_heights": [
     280
    ],
    "deepnote_cell_type": "code"
   },
   "source": "plt.bar(list(range(0,11)), sup, tick_label = itemdf.columns)\nplt.xlabel('Items')\nplt.ylabel('Support')\nplt.title('Support for Items in Transaction Data');\n",
   "execution_count": null,
   "outputs": [
    {
     "data": {
      "text/plain": "<Figure size 432x288 with 1 Axes>",
      "image/png": "[encoded data removed]"
     },
     "metadata": {
      "needs_background": "light",
      "image/png": {
       "width": 376,
       "height": 278
      }
     },
     "output_type": "display_data"
    }
   ]
  },
  {
   "cell_type": "code",
   "metadata": {
    "tags": [],
    "cell_id": "00005-f7893536-c6ca-4992-9fd2-d07c33a275d3",
    "deepnote_to_be_reexecuted": false,
    "source_hash": "a3a5b779",
    "execution_millis": 24,
    "execution_start": 1619486169442,
    "deepnote_cell_type": "code"
   },
   "source": "fi = apriori(itemdf, min_support=0.6, use_colnames=True)\nfi",
   "execution_count": null,
   "outputs": [
    {
     "output_type": "execute_result",
     "execution_count": 5,
     "data": {
      "application/vnd.deepnote.dataframe.v2+json": {
       "row_count": 11,
       "column_count": 2,
       "columns": [
        {
         "name": "support",
         "dtype": "float64",
         "stats": {
          "unique_count": 3,
          "nan_count": 0,
          "min": "0.6",
          "max": "1.0",
          "histogram": [
           {
            "bin_start": 0.6,
            "bin_end": 0.64,
            "count": 8
           },
           {
            "bin_start": 0.64,
            "bin_end": 0.6799999999999999,
            "count": 0
           },
           {
            "bin_start": 0.6799999999999999,
            "bin_end": 0.72,
            "count": 0
           },
           {
            "bin_start": 0.72,
            "bin_end": 0.76,
            "count": 0
           },
           {
            "bin_start": 0.76,
            "bin_end": 0.8,
            "count": 0
           },
           {
            "bin_start": 0.8,
            "bin_end": 0.84,
            "count": 2
           },
           {
            "bin_start": 0.84,
            "bin_end": 0.88,
            "count": 0
           },
           {
            "bin_start": 0.88,
            "bin_end": 0.9199999999999999,
            "count": 0
           },
           {
            "bin_start": 0.9199999999999999,
            "bin_end": 0.96,
            "count": 0
           },
           {
            "bin_start": 0.96,
            "bin_end": 1,
            "count": 1
           }
          ]
         }
        },
        {
         "name": "itemsets",
         "dtype": "object",
         "stats": {
          "unique_count": 11,
          "nan_count": 0,
          "categories": [
           {
            "name": "frozenset({'E'})",
            "count": 1
           },
           {
            "name": "frozenset({'K'})",
            "count": 1
           },
           {
            "name": "9 others",
            "count": 9
           }
          ]
         }
        },
        {
         "name": "_deepnote_index_column",
         "dtype": "int64"
        }
       ],
       "rows_top": [
        {
         "support": 0.8,
         "itemsets": "frozenset({'E'})",
         "_deepnote_index_column": 0
        },
        {
         "support": 1,
         "itemsets": "frozenset({'K'})",
         "_deepnote_index_column": 1
        },
        {
         "support": 0.6,
         "itemsets": "frozenset({'M'})",
         "_deepnote_index_column": 2
        },
        {
         "support": 0.6,
         "itemsets": "frozenset({'O'})",
         "_deepnote_index_column": 3
        },
        {
         "support": 0.6,
         "itemsets": "frozenset({'Y'})",
         "_deepnote_index_column": 4
        },
        {
         "support": 0.8,
         "itemsets": "frozenset({'K', 'E'})",
         "_deepnote_index_column": 5
        },
        {
         "support": 0.6,
         "itemsets": "frozenset({'O', 'E'})",
         "_deepnote_index_column": 6
        },
        {
         "support": 0.6,
         "itemsets": "frozenset({'M', 'K'})",
         "_deepnote_index_column": 7
        },
        {
         "support": 0.6,
         "itemsets": "frozenset({'O', 'K'})",
         "_deepnote_index_column": 8
        },
        {
         "support": 0.6,
         "itemsets": "frozenset({'Y', 'K'})",
         "_deepnote_index_column": 9
        },
        {
         "support": 0.6,
         "itemsets": "frozenset({'O', 'K', 'E'})",
         "_deepnote_index_column": 10
        }
       ],
       "rows_bottom": null
      },
      "text/plain": "    support   itemsets\n0       0.8        (E)\n1       1.0        (K)\n2       0.6        (M)\n3       0.6        (O)\n4       0.6        (Y)\n5       0.8     (K, E)\n6       0.6     (O, E)\n7       0.6     (M, K)\n8       0.6     (O, K)\n9       0.6     (Y, K)\n10      0.6  (O, K, E)",
      "text/html": "<div>\n<style scoped>\n    .dataframe tbody tr th:only-of-type {\n        vertical-align: middle;\n    }\n\n    .dataframe tbody tr th {\n        vertical-align: top;\n    }\n\n    .dataframe thead th {\n        text-align: right;\n    }\n</style>\n<table border=\"1\" class=\"dataframe\">\n  <thead>\n    <tr style=\"text-align: right;\">\n      <th></th>\n      <th>support</th>\n      <th>itemsets</th>\n    </tr>\n  </thead>\n  <tbody>\n    <tr>\n      <th>0</th>\n      <td>0.8</td>\n      <td>(E)</td>\n    </tr>\n    <tr>\n      <th>1</th>\n      <td>1.0</td>\n      <td>(K)</td>\n    </tr>\n    <tr>\n      <th>2</th>\n      <td>0.6</td>\n      <td>(M)</td>\n    </tr>\n    <tr>\n      <th>3</th>\n      <td>0.6</td>\n      <td>(O)</td>\n    </tr>\n    <tr>\n      <th>4</th>\n      <td>0.6</td>\n      <td>(Y)</td>\n    </tr>\n    <tr>\n      <th>5</th>\n      <td>0.8</td>\n      <td>(K, E)</td>\n    </tr>\n    <tr>\n      <th>6</th>\n      <td>0.6</td>\n      <td>(O, E)</td>\n    </tr>\n    <tr>\n      <th>7</th>\n      <td>0.6</td>\n      <td>(M, K)</td>\n    </tr>\n    <tr>\n      <th>8</th>\n      <td>0.6</td>\n      <td>(O, K)</td>\n    </tr>\n    <tr>\n      <th>9</th>\n      <td>0.6</td>\n      <td>(Y, K)</td>\n    </tr>\n    <tr>\n      <th>10</th>\n      <td>0.6</td>\n      <td>(O, K, E)</td>\n    </tr>\n  </tbody>\n</table>\n</div>"
     },
     "metadata": {}
    }
   ]
  },
  {
   "cell_type": "code",
   "metadata": {
    "tags": [],
    "cell_id": "00007-c46c2ba5-63c1-4696-b0a1-8e97f633494e",
    "deepnote_to_be_reexecuted": false,
    "source_hash": "e5c6e51b",
    "execution_millis": 11,
    "execution_start": 1619486169509,
    "deepnote_cell_type": "code"
   },
   "source": "rules = association_rules(fi, metric='confidence', min_threshold=0.7)\nrules",
   "execution_count": null,
   "outputs": [
    {
     "output_type": "execute_result",
     "execution_count": 6,
     "data": {
      "application/vnd.deepnote.dataframe.v2+json": {
       "row_count": 12,
       "column_count": 9,
       "columns": [
        {
         "name": "antecedents",
         "dtype": "object",
         "stats": {
          "unique_count": 8,
          "nan_count": 0,
          "categories": [
           {
            "name": "frozenset({'E'})",
            "count": 3
           },
           {
            "name": "frozenset({'O'})",
            "count": 3
           },
           {
            "name": "6 others",
            "count": 6
           }
          ]
         }
        },
        {
         "name": "consequents",
         "dtype": "object",
         "stats": {
          "unique_count": 5,
          "nan_count": 0,
          "categories": [
           {
            "name": "frozenset({'K'})",
            "count": 5
           },
           {
            "name": "frozenset({'E'})",
            "count": 3
           },
           {
            "name": "3 others",
            "count": 4
           }
          ]
         }
        },
        {
         "name": "antecedent support",
         "dtype": "float64",
         "stats": {
          "unique_count": 3,
          "nan_count": 0,
          "min": "0.6",
          "max": "1.0",
          "histogram": [
           {
            "bin_start": 0.6,
            "bin_end": 0.64,
            "count": 7
           },
           {
            "bin_start": 0.64,
            "bin_end": 0.6799999999999999,
            "count": 0
           },
           {
            "bin_start": 0.6799999999999999,
            "bin_end": 0.72,
            "count": 0
           },
           {
            "bin_start": 0.72,
            "bin_end": 0.76,
            "count": 0
           },
           {
            "bin_start": 0.76,
            "bin_end": 0.8,
            "count": 0
           },
           {
            "bin_start": 0.8,
            "bin_end": 0.84,
            "count": 4
           },
           {
            "bin_start": 0.84,
            "bin_end": 0.88,
            "count": 0
           },
           {
            "bin_start": 0.88,
            "bin_end": 0.9199999999999999,
            "count": 0
           },
           {
            "bin_start": 0.9199999999999999,
            "bin_end": 0.96,
            "count": 0
           },
           {
            "bin_start": 0.96,
            "bin_end": 1,
            "count": 1
           }
          ]
         }
        },
        {
         "name": "consequent support",
         "dtype": "float64",
         "stats": {
          "unique_count": 3,
          "nan_count": 0,
          "min": "0.6",
          "max": "1.0",
          "histogram": [
           {
            "bin_start": 0.6,
            "bin_end": 0.64,
            "count": 3
           },
           {
            "bin_start": 0.64,
            "bin_end": 0.6799999999999999,
            "count": 0
           },
           {
            "bin_start": 0.6799999999999999,
            "bin_end": 0.72,
            "count": 0
           },
           {
            "bin_start": 0.72,
            "bin_end": 0.76,
            "count": 0
           },
           {
            "bin_start": 0.76,
            "bin_end": 0.8,
            "count": 0
           },
           {
            "bin_start": 0.8,
            "bin_end": 0.84,
            "count": 4
           },
           {
            "bin_start": 0.84,
            "bin_end": 0.88,
            "count": 0
           },
           {
            "bin_start": 0.88,
            "bin_end": 0.9199999999999999,
            "count": 0
           },
           {
            "bin_start": 0.9199999999999999,
            "bin_end": 0.96,
            "count": 0
           },
           {
            "bin_start": 0.96,
            "bin_end": 1,
            "count": 5
           }
          ]
         }
        },
        {
         "name": "support",
         "dtype": "float64",
         "stats": {
          "unique_count": 2,
          "nan_count": 0,
          "min": "0.6",
          "max": "0.8",
          "histogram": [
           {
            "bin_start": 0.6,
            "bin_end": 0.62,
            "count": 10
           },
           {
            "bin_start": 0.62,
            "bin_end": 0.64,
            "count": 0
           },
           {
            "bin_start": 0.64,
            "bin_end": 0.66,
            "count": 0
           },
           {
            "bin_start": 0.66,
            "bin_end": 0.68,
            "count": 0
           },
           {
            "bin_start": 0.68,
            "bin_end": 0.7,
            "count": 0
           },
           {
            "bin_start": 0.7,
            "bin_end": 0.72,
            "count": 0
           },
           {
            "bin_start": 0.72,
            "bin_end": 0.74,
            "count": 0
           },
           {
            "bin_start": 0.74,
            "bin_end": 0.76,
            "count": 0
           },
           {
            "bin_start": 0.76,
            "bin_end": 0.78,
            "count": 0
           },
           {
            "bin_start": 0.78,
            "bin_end": 0.8,
            "count": 2
           }
          ]
         }
        },
        {
         "name": "confidence",
         "dtype": "float64",
         "stats": {
          "unique_count": 3,
          "nan_count": 0,
          "min": "0.7499999999999999",
          "max": "1.0",
          "histogram": [
           {
            "bin_start": 0.7499999999999999,
            "bin_end": 0.7749999999999999,
            "count": 3
           },
           {
            "bin_start": 0.7749999999999999,
            "bin_end": 0.7999999999999999,
            "count": 0
           },
           {
            "bin_start": 0.7999999999999999,
            "bin_end": 0.825,
            "count": 1
           },
           {
            "bin_start": 0.825,
            "bin_end": 0.85,
            "count": 0
           },
           {
            "bin_start": 0.85,
            "bin_end": 0.875,
            "count": 0
           },
           {
            "bin_start": 0.875,
            "bin_end": 0.8999999999999999,
            "count": 0
           },
           {
            "bin_start": 0.8999999999999999,
            "bin_end": 0.9249999999999999,
            "count": 0
           },
           {
            "bin_start": 0.9249999999999999,
            "bin_end": 0.95,
            "count": 0
           },
           {
            "bin_start": 0.95,
            "bin_end": 0.975,
            "count": 0
           },
           {
            "bin_start": 0.975,
            "bin_end": 1,
            "count": 8
           }
          ]
         }
        },
        {
         "name": "lift",
         "dtype": "float64",
         "stats": {
          "unique_count": 3,
          "nan_count": 0,
          "min": "1.0",
          "max": "1.25",
          "histogram": [
           {
            "bin_start": 1,
            "bin_end": 1.025,
            "count": 6
           },
           {
            "bin_start": 1.025,
            "bin_end": 1.05,
            "count": 0
           },
           {
            "bin_start": 1.05,
            "bin_end": 1.075,
            "count": 0
           },
           {
            "bin_start": 1.075,
            "bin_end": 1.1,
            "count": 0
           },
           {
            "bin_start": 1.1,
            "bin_end": 1.125,
            "count": 0
           },
           {
            "bin_start": 1.125,
            "bin_end": 1.15,
            "count": 0
           },
           {
            "bin_start": 1.15,
            "bin_end": 1.175,
            "count": 0
           },
           {
            "bin_start": 1.175,
            "bin_end": 1.2,
            "count": 0
           },
           {
            "bin_start": 1.2,
            "bin_end": 1.225,
            "count": 0
           },
           {
            "bin_start": 1.225,
            "bin_end": 1.25,
            "count": 6
           }
          ]
         }
        },
        {
         "name": "leverage",
         "dtype": "float64",
         "stats": {
          "unique_count": 2,
          "nan_count": 0,
          "min": "0.0",
          "max": "0.12",
          "histogram": [
           {
            "bin_start": 0,
            "bin_end": 0.012,
            "count": 6
           },
           {
            "bin_start": 0.012,
            "bin_end": 0.024,
            "count": 0
           },
           {
            "bin_start": 0.024,
            "bin_end": 0.036000000000000004,
            "count": 0
           },
           {
            "bin_start": 0.036000000000000004,
            "bin_end": 0.048,
            "count": 0
           },
           {
            "bin_start": 0.048,
            "bin_end": 0.06,
            "count": 0
           },
           {
            "bin_start": 0.06,
            "bin_end": 0.07200000000000001,
            "count": 0
           },
           {
            "bin_start": 0.07200000000000001,
            "bin_end": 0.084,
            "count": 0
           },
           {
            "bin_start": 0.084,
            "bin_end": 0.096,
            "count": 0
           },
           {
            "bin_start": 0.096,
            "bin_end": 0.108,
            "count": 0
           },
           {
            "bin_start": 0.108,
            "bin_end": 0.12,
            "count": 6
           }
          ]
         }
        },
        {
         "name": "conviction",
         "dtype": "float64",
         "stats": {
          "unique_count": 3,
          "nan_count": 0,
          "min": "1.0",
          "max": "inf",
          "histogram": [
           {
            "bin_start": 1,
            "bin_end": 1.06,
            "count": 1
           },
           {
            "bin_start": 1.06,
            "bin_end": 1.1199999999999999,
            "count": 0
           },
           {
            "bin_start": 1.1199999999999999,
            "bin_end": 1.1799999999999997,
            "count": 0
           },
           {
            "bin_start": 1.1799999999999997,
            "bin_end": 1.2399999999999998,
            "count": 0
           },
           {
            "bin_start": 1.2399999999999998,
            "bin_end": 1.2999999999999998,
            "count": 0
           },
           {
            "bin_start": 1.2999999999999998,
            "bin_end": 1.3599999999999997,
            "count": 0
           },
           {
            "bin_start": 1.3599999999999997,
            "bin_end": 1.4199999999999995,
            "count": 0
           },
           {
            "bin_start": 1.4199999999999995,
            "bin_end": 1.4799999999999995,
            "count": 0
           },
           {
            "bin_start": 1.4799999999999995,
            "bin_end": 1.5399999999999996,
            "count": 0
           },
           {
            "bin_start": 1.5399999999999996,
            "bin_end": 1.5999999999999994,
            "count": 3
           }
          ]
         }
        },
        {
         "name": "_deepnote_index_column",
         "dtype": "int64"
        }
       ],
       "rows_top": [
        {
         "antecedents": "frozenset({'K'})",
         "consequents": "frozenset({'E'})",
         "antecedent support": 1,
         "consequent support": 0.8,
         "support": 0.8,
         "confidence": 0.8,
         "lift": 1,
         "leverage": 0,
         "conviction": 1,
         "_deepnote_index_column": 0
        },
        {
         "antecedents": "frozenset({'E'})",
         "consequents": "frozenset({'K'})",
         "antecedent support": 0.8,
         "consequent support": 1,
         "support": 0.8,
         "confidence": 1,
         "lift": 1,
         "leverage": 0,
         "conviction": "inf",
         "_deepnote_index_column": 1
        },
        {
         "antecedents": "frozenset({'O'})",
         "consequents": "frozenset({'E'})",
         "antecedent support": 0.6,
         "consequent support": 0.8,
         "support": 0.6,
         "confidence": 1,
         "lift": 1.25,
         "leverage": 0.12,
         "conviction": "inf",
         "_deepnote_index_column": 2
        },
        {
         "antecedents": "frozenset({'E'})",
         "consequents": "frozenset({'O'})",
         "antecedent support": 0.8,
         "consequent support": 0.6,
         "support": 0.6,
         "confidence": 0.7499999999999999,
         "lift": 1.2499999999999998,
         "leverage": 0.12,
         "conviction": 1.5999999999999994,
         "_deepnote_index_column": 3
        },
        {
         "antecedents": "frozenset({'M'})",
         "consequents": "frozenset({'K'})",
         "antecedent support": 0.6,
         "consequent support": 1,
         "support": 0.6,
         "confidence": 1,
         "lift": 1,
         "leverage": 0,
         "conviction": "inf",
         "_deepnote_index_column": 4
        },
        {
         "antecedents": "frozenset({'O'})",
         "consequents": "frozenset({'K'})",
         "antecedent support": 0.6,
         "consequent support": 1,
         "support": 0.6,
         "confidence": 1,
         "lift": 1,
         "leverage": 0,
         "conviction": "inf",
         "_deepnote_index_column": 5
        },
        {
         "antecedents": "frozenset({'Y'})",
         "consequents": "frozenset({'K'})",
         "antecedent support": 0.6,
         "consequent support": 1,
         "support": 0.6,
         "confidence": 1,
         "lift": 1,
         "leverage": 0,
         "conviction": "inf",
         "_deepnote_index_column": 6
        },
        {
         "antecedents": "frozenset({'O', 'K'})",
         "consequents": "frozenset({'E'})",
         "antecedent support": 0.6,
         "consequent support": 0.8,
         "support": 0.6,
         "confidence": 1,
         "lift": 1.25,
         "leverage": 0.12,
         "conviction": "inf",
         "_deepnote_index_column": 7
        },
        {
         "antecedents": "frozenset({'O', 'E'})",
         "consequents": "frozenset({'K'})",
         "antecedent support": 0.6,
         "consequent support": 1,
         "support": 0.6,
         "confidence": 1,
         "lift": 1,
         "leverage": 0,
         "conviction": "inf",
         "_deepnote_index_column": 8
        },
        {
         "antecedents": "frozenset({'K', 'E'})",
         "consequents": "frozenset({'O'})",
         "antecedent support": 0.8,
         "consequent support": 0.6,
         "support": 0.6,
         "confidence": 0.7499999999999999,
         "lift": 1.2499999999999998,
         "leverage": 0.12,
         "conviction": 1.5999999999999994,
         "_deepnote_index_column": 9
        },
        {
         "antecedents": "frozenset({'O'})",
         "consequents": "frozenset({'K', 'E'})",
         "antecedent support": 0.6,
         "consequent support": 0.8,
         "support": 0.6,
         "confidence": 1,
         "lift": 1.25,
         "leverage": 0.12,
         "conviction": "inf",
         "_deepnote_index_column": 10
        },
        {
         "antecedents": "frozenset({'E'})",
         "consequents": "frozenset({'O', 'K'})",
         "antecedent support": 0.8,
         "consequent support": 0.6,
         "support": 0.6,
         "confidence": 0.7499999999999999,
         "lift": 1.2499999999999998,
         "leverage": 0.12,
         "conviction": 1.5999999999999994,
         "_deepnote_index_column": 11
        }
       ],
       "rows_bottom": null
      },
      "text/plain": "   antecedents consequents  antecedent support  consequent support  support  \\\n0          (K)         (E)                 1.0                 0.8      0.8   \n1          (E)         (K)                 0.8                 1.0      0.8   \n2          (O)         (E)                 0.6                 0.8      0.6   \n3          (E)         (O)                 0.8                 0.6      0.6   \n4          (M)         (K)                 0.6                 1.0      0.6   \n5          (O)         (K)                 0.6                 1.0      0.6   \n6          (Y)         (K)                 0.6                 1.0      0.6   \n7       (O, K)         (E)                 0.6                 0.8      0.6   \n8       (O, E)         (K)                 0.6                 1.0      0.6   \n9       (K, E)         (O)                 0.8                 0.6      0.6   \n10         (O)      (K, E)                 0.6                 0.8      0.6   \n11         (E)      (O, K)                 0.8                 0.6      0.6   \n\n    confidence  lift  leverage  conviction  \n0         0.80  1.00      0.00         1.0  \n1         1.00  1.00      0.00         inf  \n2         1.00  1.25      0.12         inf  \n3         0.75  1.25      0.12         1.6  \n4         1.00  1.00      0.00         inf  \n5         1.00  1.00      0.00         inf  \n6         1.00  1.00      0.00         inf  \n7         1.00  1.25      0.12         inf  \n8         1.00  1.00      0.00         inf  \n9         0.75  1.25      0.12         1.6  \n10        1.00  1.25      0.12         inf  \n11        0.75  1.25      0.12         1.6  ",
      "text/html": "<div>\n<style scoped>\n    .dataframe tbody tr th:only-of-type {\n        vertical-align: middle;\n    }\n\n    .dataframe tbody tr th {\n        vertical-align: top;\n    }\n\n    .dataframe thead th {\n        text-align: right;\n    }\n</style>\n<table border=\"1\" class=\"dataframe\">\n  <thead>\n    <tr style=\"text-align: right;\">\n      <th></th>\n      <th>antecedents</th>\n      <th>consequents</th>\n      <th>antecedent support</th>\n      <th>consequent support</th>\n      <th>support</th>\n      <th>confidence</th>\n      <th>lift</th>\n      <th>leverage</th>\n      <th>conviction</th>\n    </tr>\n  </thead>\n  <tbody>\n    <tr>\n      <th>0</th>\n      <td>(K)</td>\n      <td>(E)</td>\n      <td>1.0</td>\n      <td>0.8</td>\n      <td>0.8</td>\n      <td>0.80</td>\n      <td>1.00</td>\n      <td>0.00</td>\n      <td>1.0</td>\n    </tr>\n    <tr>\n      <th>1</th>\n      <td>(E)</td>\n      <td>(K)</td>\n      <td>0.8</td>\n      <td>1.0</td>\n      <td>0.8</td>\n      <td>1.00</td>\n      <td>1.00</td>\n      <td>0.00</td>\n      <td>inf</td>\n    </tr>\n    <tr>\n      <th>2</th>\n      <td>(O)</td>\n      <td>(E)</td>\n      <td>0.6</td>\n      <td>0.8</td>\n      <td>0.6</td>\n      <td>1.00</td>\n      <td>1.25</td>\n      <td>0.12</td>\n      <td>inf</td>\n    </tr>\n    <tr>\n      <th>3</th>\n      <td>(E)</td>\n      <td>(O)</td>\n      <td>0.8</td>\n      <td>0.6</td>\n      <td>0.6</td>\n      <td>0.75</td>\n      <td>1.25</td>\n      <td>0.12</td>\n      <td>1.6</td>\n    </tr>\n    <tr>\n      <th>4</th>\n      <td>(M)</td>\n      <td>(K)</td>\n      <td>0.6</td>\n      <td>1.0</td>\n      <td>0.6</td>\n      <td>1.00</td>\n      <td>1.00</td>\n      <td>0.00</td>\n      <td>inf</td>\n    </tr>\n    <tr>\n      <th>5</th>\n      <td>(O)</td>\n      <td>(K)</td>\n      <td>0.6</td>\n      <td>1.0</td>\n      <td>0.6</td>\n      <td>1.00</td>\n      <td>1.00</td>\n      <td>0.00</td>\n      <td>inf</td>\n    </tr>\n    <tr>\n      <th>6</th>\n      <td>(Y)</td>\n      <td>(K)</td>\n      <td>0.6</td>\n      <td>1.0</td>\n      <td>0.6</td>\n      <td>1.00</td>\n      <td>1.00</td>\n      <td>0.00</td>\n      <td>inf</td>\n    </tr>\n    <tr>\n      <th>7</th>\n      <td>(O, K)</td>\n      <td>(E)</td>\n      <td>0.6</td>\n      <td>0.8</td>\n      <td>0.6</td>\n      <td>1.00</td>\n      <td>1.25</td>\n      <td>0.12</td>\n      <td>inf</td>\n    </tr>\n    <tr>\n      <th>8</th>\n      <td>(O, E)</td>\n      <td>(K)</td>\n      <td>0.6</td>\n      <td>1.0</td>\n      <td>0.6</td>\n      <td>1.00</td>\n      <td>1.00</td>\n      <td>0.00</td>\n      <td>inf</td>\n    </tr>\n    <tr>\n      <th>9</th>\n      <td>(K, E)</td>\n      <td>(O)</td>\n      <td>0.8</td>\n      <td>0.6</td>\n      <td>0.6</td>\n      <td>0.75</td>\n      <td>1.25</td>\n      <td>0.12</td>\n      <td>1.6</td>\n    </tr>\n    <tr>\n      <th>10</th>\n      <td>(O)</td>\n      <td>(K, E)</td>\n      <td>0.6</td>\n      <td>0.8</td>\n      <td>0.6</td>\n      <td>1.00</td>\n      <td>1.25</td>\n      <td>0.12</td>\n      <td>inf</td>\n    </tr>\n    <tr>\n      <th>11</th>\n      <td>(E)</td>\n      <td>(O, K)</td>\n      <td>0.8</td>\n      <td>0.6</td>\n      <td>0.6</td>\n      <td>0.75</td>\n      <td>1.25</td>\n      <td>0.12</td>\n      <td>1.6</td>\n    </tr>\n  </tbody>\n</table>\n</div>"
     },
     "metadata": {}
    }
   ]
  },
  {
   "cell_type": "markdown",
   "source": "## Q5(a)",
   "metadata": {
    "tags": [],
    "cell_id": "00008-fccb3f4f-0191-4416-a254-7b84d6f861ea",
    "is_collapsed": false,
    "deepnote_cell_type": "text-cell-h2"
   }
  },
  {
   "cell_type": "code",
   "metadata": {
    "tags": [],
    "cell_id": "00009-b163be8b-9d00-454e-8dc6-60fbbbda56a2",
    "deepnote_to_be_reexecuted": false,
    "source_hash": "4ea1739a",
    "execution_millis": 175,
    "execution_start": 1619486169514,
    "deepnote_cell_type": "code"
   },
   "source": "productSmall = pd.read_csv(\"order_products__train_small.csv\")\nproductMed = pd.read_csv(\"orders_product__train_med.csv\")\nproductNames = pd.read_csv(\"products.csv\")",
   "execution_count": null,
   "outputs": []
  },
  {
   "cell_type": "code",
   "metadata": {
    "tags": [],
    "cell_id": "00011-ccb9c278-55e6-4053-9e83-82ac9a893c7a",
    "deepnote_to_be_reexecuted": false,
    "source_hash": "aba6fbf0",
    "execution_millis": 166,
    "output_cleared": false,
    "execution_start": 1619486169739,
    "deepnote_output_heights": [
     21.1875,
     266
    ],
    "deepnote_cell_type": "code"
   },
   "source": "productSmallOrderAgg = productSmall.groupby(by='order_id').agg('count')\nplt.hist(productSmallOrderAgg['product_id'], bins='auto')\nplt.title(\"Histogram of products per order\")",
   "execution_count": null,
   "outputs": [
    {
     "output_type": "execute_result",
     "execution_count": 8,
     "data": {
      "text/plain": "Text(0.5, 1.0, 'Histogram of products per order')"
     },
     "metadata": {}
    },
    {
     "data": {
      "text/plain": "<Figure size 432x288 with 1 Axes>",
      "image/png": "[encoded data removed]"
     },
     "metadata": {
      "needs_background": "light",
      "image/png": {
       "width": 375,
       "height": 264
      }
     },
     "output_type": "display_data"
    }
   ]
  },
  {
   "cell_type": "code",
   "metadata": {
    "tags": [],
    "cell_id": "00012-bb62bfc3-8532-4b36-9652-1c366ceb780e",
    "deepnote_to_be_reexecuted": false,
    "source_hash": "3f9a2cdf",
    "execution_millis": 401,
    "execution_start": 1619486169912,
    "deepnote_output_heights": [
     21.1875,
     266
    ],
    "deepnote_cell_type": "code"
   },
   "source": "productMedOrderAgg = productMed.groupby(by='order_id').agg('count')\nplt.hist(productMedOrderAgg['product_id'], bins='auto')\nplt.title(\"Histogram of products per order\")",
   "execution_count": null,
   "outputs": [
    {
     "output_type": "execute_result",
     "execution_count": 9,
     "data": {
      "text/plain": "Text(0.5, 1.0, 'Histogram of products per order')"
     },
     "metadata": {}
    },
    {
     "data": {
      "text/plain": "<Figure size 432x288 with 1 Axes>",
      "image/png": "[encoded data removed]"
     },
     "metadata": {
      "needs_background": "light",
      "image/png": {
       "width": 384,
       "height": 264
      }
     },
     "output_type": "display_data"
    }
   ]
  },
  {
   "cell_type": "markdown",
   "source": "## Q(5)(b)",
   "metadata": {
    "tags": [],
    "cell_id": "00012-a64c5bc7-2312-44e5-9fbf-4a9df76b3c41",
    "deepnote_cell_type": "markdown"
   }
  },
  {
   "cell_type": "code",
   "metadata": {
    "tags": [],
    "cell_id": "00014-2f1efa7f-1481-4cee-b59f-b1f5309396c2",
    "deepnote_to_be_reexecuted": false,
    "source_hash": "eeb53d66",
    "execution_millis": 5,
    "output_cleared": false,
    "execution_start": 1619486289987,
    "deepnote_cell_type": "code"
   },
   "source": "productSmallOrderAgg = productSmall.groupby(by='product_id').agg('count')\nproductSmallOrderAgg\nproductSmallOrderSorted = productSmallOrderAgg \\\n                            .sort_values(by='order_id').tail(15)\nproductSmallTop15 = pd.DataFrame(productSmallOrderSorted['order_id'])\nproductSmallTop15.columns = ['frequency']\nproductSmallTop15\n",
   "execution_count": null,
   "outputs": [
    {
     "output_type": "execute_result",
     "execution_count": 14,
     "data": {
      "application/vnd.deepnote.dataframe.v2+json": {
       "row_count": 15,
       "column_count": 1,
       "columns": [
        {
         "name": "frequency",
         "dtype": "int64",
         "stats": {
          "unique_count": 15,
          "nan_count": 0,
          "min": "61",
          "max": "249",
          "histogram": [
           {
            "bin_start": 61,
            "bin_end": 79.8,
            "count": 6
           },
           {
            "bin_start": 79.8,
            "bin_end": 98.6,
            "count": 3
           },
           {
            "bin_start": 98.6,
            "bin_end": 117.4,
            "count": 2
           },
           {
            "bin_start": 117.4,
            "bin_end": 136.2,
            "count": 1
           },
           {
            "bin_start": 136.2,
            "bin_end": 155,
            "count": 0
           },
           {
            "bin_start": 155,
            "bin_end": 173.8,
            "count": 0
           },
           {
            "bin_start": 173.8,
            "bin_end": 192.6,
            "count": 1
           },
           {
            "bin_start": 192.6,
            "bin_end": 211.4,
            "count": 1
           },
           {
            "bin_start": 211.4,
            "bin_end": 230.20000000000002,
            "count": 0
           },
           {
            "bin_start": 230.20000000000002,
            "bin_end": 249,
            "count": 1
           }
          ]
         }
        },
        {
         "name": "_deepnote_index_column",
         "dtype": "int64"
        }
       ],
       "rows_top": [
        {
         "frequency": 61,
         "_deepnote_index_column": 45007
        },
        {
         "frequency": 66,
         "_deepnote_index_column": 40706
        },
        {
         "frequency": 69,
         "_deepnote_index_column": 27966
        },
        {
         "frequency": 73,
         "_deepnote_index_column": 30391
        },
        {
         "frequency": 75,
         "_deepnote_index_column": 16797
        },
        {
         "frequency": 79,
         "_deepnote_index_column": 39275
        },
        {
         "frequency": 83,
         "_deepnote_index_column": 27845
        },
        {
         "frequency": 90,
         "_deepnote_index_column": 26209
        },
        {
         "frequency": 92,
         "_deepnote_index_column": 47766
        },
        {
         "frequency": 103,
         "_deepnote_index_column": 47209
        },
        {
         "frequency": 117,
         "_deepnote_index_column": 47626
        },
        {
         "frequency": 132,
         "_deepnote_index_column": 21903
        },
        {
         "frequency": 181,
         "_deepnote_index_column": 21137
        },
        {
         "frequency": 210,
         "_deepnote_index_column": 13176
        },
        {
         "frequency": 249,
         "_deepnote_index_column": 24852
        }
       ],
       "rows_bottom": null
      },
      "text/plain": "            frequency\nproduct_id           \n45007              61\n40706              66\n27966              69\n30391              73\n16797              75\n39275              79\n27845              83\n26209              90\n47766              92\n47209             103\n47626             117\n21903             132\n21137             181\n13176             210\n24852             249",
      "text/html": "<div>\n<style scoped>\n    .dataframe tbody tr th:only-of-type {\n        vertical-align: middle;\n    }\n\n    .dataframe tbody tr th {\n        vertical-align: top;\n    }\n\n    .dataframe thead th {\n        text-align: right;\n    }\n</style>\n<table border=\"1\" class=\"dataframe\">\n  <thead>\n    <tr style=\"text-align: right;\">\n      <th></th>\n      <th>frequency</th>\n    </tr>\n    <tr>\n      <th>product_id</th>\n      <th></th>\n    </tr>\n  </thead>\n  <tbody>\n    <tr>\n      <th>45007</th>\n      <td>61</td>\n    </tr>\n    <tr>\n      <th>40706</th>\n      <td>66</td>\n    </tr>\n    <tr>\n      <th>27966</th>\n      <td>69</td>\n    </tr>\n    <tr>\n      <th>30391</th>\n      <td>73</td>\n    </tr>\n    <tr>\n      <th>16797</th>\n      <td>75</td>\n    </tr>\n    <tr>\n      <th>39275</th>\n      <td>79</td>\n    </tr>\n    <tr>\n      <th>27845</th>\n      <td>83</td>\n    </tr>\n    <tr>\n      <th>26209</th>\n      <td>90</td>\n    </tr>\n    <tr>\n      <th>47766</th>\n      <td>92</td>\n    </tr>\n    <tr>\n      <th>47209</th>\n      <td>103</td>\n    </tr>\n    <tr>\n      <th>47626</th>\n      <td>117</td>\n    </tr>\n    <tr>\n      <th>21903</th>\n      <td>132</td>\n    </tr>\n    <tr>\n      <th>21137</th>\n      <td>181</td>\n    </tr>\n    <tr>\n      <th>13176</th>\n      <td>210</td>\n    </tr>\n    <tr>\n      <th>24852</th>\n      <td>249</td>\n    </tr>\n  </tbody>\n</table>\n</div>"
     },
     "metadata": {}
    }
   ]
  },
  {
   "cell_type": "code",
   "metadata": {
    "tags": [],
    "cell_id": "00013-4d7801ae-1fd8-4d04-8584-a2ffcb284e3d",
    "deepnote_to_be_reexecuted": false,
    "source_hash": "8f4c8095",
    "execution_millis": 191,
    "execution_start": 1619486293548,
    "deepnote_output_heights": [
     280
    ],
    "deepnote_cell_type": "code"
   },
   "source": "plt.bar(list(range(0,15)), \n        productSmallTop15['frequency'].tolist(),\n        tick_label = productSmallTop15.index)\nplt.xlabel('Product ID`s')\nplt.ylabel('Frequency')\nplt.title('Frequency of Top 15 Products Purchased');",
   "execution_count": null,
   "outputs": [
    {
     "data": {
      "text/plain": "<Figure size 432x288 with 1 Axes>",
      "image/png": "[encoded data removed]"
     },
     "metadata": {
      "needs_background": "light",
      "image/png": {
       "width": 389,
       "height": 278
      }
     },
     "output_type": "display_data"
    }
   ]
  }
 ],
 "nbformat": 4,
 "nbformat_minor": 2,
 "metadata": {
  "orig_nbformat": 2,
  "deepnote": {
   "is_reactive": false
  },
  "deepnote_notebook_id": "fa51e26c-de59-4926-be76-e29d3ac3eaf6",
  "deepnote_execution_queue": []
 }
}